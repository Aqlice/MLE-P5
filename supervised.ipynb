{
 "cells": [
  {
   "cell_type": "code",
   "execution_count": 19,
   "metadata": {},
   "outputs": [],
   "source": [
    "import numpy as np\n",
    "from sklearn.pipeline import Pipeline\n",
    "from sklearn.feature_extraction.text import TfidfVectorizer\n",
    "from sklearn.model_selection import train_test_split\n",
    "import pandas as pd \n",
    "from transformers import BertTokenizer, BertModel\n",
    "import torch\n",
    "\n",
    "\n",
    "import mlflow\n",
    "import matplotlib.pyplot as plt\n",
    "import gensim\n",
    "from gensim.models import Word2Vec\n",
    "\n",
    "from sklearn.base import BaseEstimator, TransformerMixin\n",
    "from sklearn.ensemble import RandomForestClassifier\n",
    "from sklearn.preprocessing import MultiLabelBinarizer\n",
    "from sklearn.manifold import TSNE\n",
    "from sentence_transformers import SentenceTransformer\n",
    "from xgboost import XGBClassifier\n",
    "\n",
    "import time\n",
    "from sklearn.linear_model import LogisticRegression\n",
    "from sklearn.multiclass import OneVsRestClassifier\n",
    "from sklearn.metrics import accuracy_score, precision_score, recall_score, f1_score, classification_report, hamming_loss, jaccard_score\n",
    "\n"
   ]
  },
  {
   "cell_type": "markdown",
   "metadata": {},
   "source": [
    "## Fonctions"
   ]
  },
  {
   "cell_type": "code",
   "execution_count": 20,
   "metadata": {},
   "outputs": [],
   "source": [
    "def select_top_n_tags(probabilities, threshold, top_n=5):\n",
    "    \"\"\" Sélectionne les top N tags pour chaque échantillon en fonction d'un seuil de probabilité.\"\"\"\n",
    "\n",
    "    # Créer une matrice de zéros de la même forme que probabilities\n",
    "    final_tags = np.zeros(probabilities.shape)\n",
    "    \n",
    "    for i in range(probabilities.shape[0]):\n",
    "        # Trouver les indices qui satisfont le seuil\n",
    "        eligible_indices = np.where(probabilities[i] >= threshold)[0]\n",
    "        \n",
    "        # Trier ces indices en fonction de leur probabilité\n",
    "        top_indices = eligible_indices[np.argsort(probabilities[i][eligible_indices])][::-1]\n",
    "        \n",
    "        # Sélectionner les top N indices\n",
    "        top_n_indices = top_indices[:top_n]\n",
    "        \n",
    "        # Mettre à 1 les positions correspondant aux tags sélectionnés\n",
    "        final_tags[i, top_n_indices] = 1\n",
    "    \n",
    "    return final_tags\n",
    "\n"
   ]
  },
  {
   "cell_type": "code",
   "execution_count": 21,
   "metadata": {},
   "outputs": [],
   "source": [
    "def plot_result(model_results):\n",
    "    \"\"\"Fonction pour afficher le graphiques des résultats des modèles\n",
    "        Log les graphiques dans mlflow\"\"\"\n",
    "    # Largeur des barres\n",
    "    barWidth = 0.2\n",
    "    title = str(model_results.iloc[0,0])\n",
    "    # Position des barres sur l'axe x\n",
    "    r1 = np.arange(len(model_results['Vectorizer']))\n",
    "    r2 = [x + barWidth for x in r1]\n",
    "\n",
    "    plt.figure(figsize=(6,5))\n",
    "\n",
    "    # Créer les barres\n",
    "    plt.bar(r1, model_results['precision Test'], width = barWidth, color = 'blue', edgecolor = 'grey', label='Precision Test')\n",
    "    plt.bar(r2, model_results['Jaccard Test'], width = barWidth, color = 'cyan', edgecolor = 'grey', label='Jaccard Test')\n",
    "\n",
    "    # Ajouter des xticks \n",
    "    plt.title(title, fontweight='bold', fontsize = 15)\n",
    "    plt.xlabel(title, fontweight='bold', fontsize = 15)\n",
    "    plt.ylabel('Score', fontweight='bold', fontsize = 15)\n",
    "    plt.xticks([r + barWidth for r in range(len(model_results['Vectorizer']))], model_results['Vectorizer'])\n",
    "\n",
    "    plt.legend()\n",
    "    plt.savefig(title+\".png\")\n",
    "    mlflow.log_artifact(title+\".png\")\n",
    "    plt.show()"
   ]
  },
  {
   "cell_type": "code",
   "execution_count": 22,
   "metadata": {},
   "outputs": [],
   "source": [
    "def stocker_results(name = str, precision_test=None, recall_test=None,f1_test=None,jaccard_test=None, fit_time=None, transform_time=None, predict_time=None, model=None, X_test=None, y_test=None):\n",
    "    \"\"\"Fonction pour stocker les résultats des modèles dans un DataFrame\n",
    "        Log les résultats dans mlflow\"\"\"\n",
    "    results = pd.DataFrame({'Vectorizer': [name], 'precision Test': [precision_test], 'recall_test':[recall_test],'f1_test':[f1_test],'Jaccard Test': [jaccard_test],'Fit Time': [fit_time], 'predict_time': [predict_time]})\n",
    "    display(results)\n",
    "    mlflow.log_metric(\"Jaccard Score\", jaccard_test)\n",
    "    mlflow.log_metric(\"Precision\", precision_test)\n",
    "    mlflow.log_metric(\"Recall\", recall_test)\n",
    "    mlflow.log_metric(\"F1 Score\", f1_test)\n",
    "    mlflow.log_metric(\"Fit_time\", fit_time)\n",
    "    mlflow.log_metric(\"prediction_time\", predict_time)\n",
    "    return results"
   ]
  },
  {
   "cell_type": "code",
   "execution_count": 23,
   "metadata": {},
   "outputs": [],
   "source": [
    "def tags_predicted_to_text(tags_predicted, mlb):\n",
    "    \"\"\"Fonction pour transformer les tags prédits en texte\n",
    "        Log les résultats dans mlflow\"\"\"\n",
    "    predictions_labels =mlb.inverse_transform(tags_predicted)\n",
    "    predictions_labels= pd.DataFrame(predictions_labels)\n",
    "    predictions_labels.to_csv(\"Data/predictions_labels.csv\", index=False)\n",
    "    mlflow.log_artifact(\"Data/predictions_labels.csv\")"
   ]
  },
  {
   "cell_type": "code",
   "execution_count": 24,
   "metadata": {},
   "outputs": [],
   "source": [
    "def words_tokenize(text):\n",
    "    text = text.split()\n",
    "    return text"
   ]
  },
  {
   "cell_type": "code",
   "execution_count": 25,
   "metadata": {},
   "outputs": [
    {
     "data": {
      "text/html": [
       "<div>\n",
       "<style scoped>\n",
       "    .dataframe tbody tr th:only-of-type {\n",
       "        vertical-align: middle;\n",
       "    }\n",
       "\n",
       "    .dataframe tbody tr th {\n",
       "        vertical-align: top;\n",
       "    }\n",
       "\n",
       "    .dataframe thead th {\n",
       "        text-align: right;\n",
       "    }\n",
       "</style>\n",
       "<table border=\"1\" class=\"dataframe\">\n",
       "  <thead>\n",
       "    <tr style=\"text-align: right;\">\n",
       "      <th></th>\n",
       "      <th>Title</th>\n",
       "      <th>Body</th>\n",
       "      <th>Tags</th>\n",
       "      <th>Body_word_count</th>\n",
       "      <th>combined</th>\n",
       "    </tr>\n",
       "  </thead>\n",
       "  <tbody>\n",
       "    <tr>\n",
       "      <th>0</th>\n",
       "      <td>android jetpack navigation bottomnavigationvie...</td>\n",
       "      <td>android jetpack navigation bottomnavigationvie...</td>\n",
       "      <td>android android-architecture-components bottom...</td>\n",
       "      <td>131</td>\n",
       "      <td>android jetpack navigation bottomnavigationvie...</td>\n",
       "    </tr>\n",
       "    <tr>\n",
       "      <th>1</th>\n",
       "      <td>jetpack compose button drawable</td>\n",
       "      <td>achieve jetpack compose something button eleva...</td>\n",
       "      <td>android android-jetpack-compose android-compos...</td>\n",
       "      <td>60</td>\n",
       "      <td>jetpack compose button drawable achieve jetpac...</td>\n",
       "    </tr>\n",
       "    <tr>\n",
       "      <th>2</th>\n",
       "      <td>topappbar flash navigate compose navigation</td>\n",
       "      <td>screen scaffold topappbar navigate jetpack nav...</td>\n",
       "      <td>android android-jetpack android-jetpack-compos...</td>\n",
       "      <td>198</td>\n",
       "      <td>topappbar flash navigate compose navigation sc...</td>\n",
       "    </tr>\n",
       "    <tr>\n",
       "      <th>3</th>\n",
       "      <td>how create recycler view compose jetpack</td>\n",
       "      <td>special way create recyclerview compose jetpac...</td>\n",
       "      <td>android android-recyclerview android-jetpack-c...</td>\n",
       "      <td>7</td>\n",
       "      <td>how create recycler view compose jetpack speci...</td>\n",
       "    </tr>\n",
       "    <tr>\n",
       "      <th>4</th>\n",
       "      <td>how navhostfragment</td>\n",
       "      <td>integrate android navigation architecture comp...</td>\n",
       "      <td>android android-fragments android-architecture...</td>\n",
       "      <td>48</td>\n",
       "      <td>how navhostfragment integrate android navigati...</td>\n",
       "    </tr>\n",
       "    <tr>\n",
       "      <th>...</th>\n",
       "      <td>...</td>\n",
       "      <td>...</td>\n",
       "      <td>...</td>\n",
       "      <td>...</td>\n",
       "      <td>...</td>\n",
       "    </tr>\n",
       "    <tr>\n",
       "      <th>36814</th>\n",
       "      <td>spring rest json can handle managedback refere...</td>\n",
       "      <td>post httplocalhosttranslators angularjs fronte...</td>\n",
       "      <td>java json hibernate jackson spring-boot</td>\n",
       "      <td>273</td>\n",
       "      <td>spring rest json can handle managedback refere...</td>\n",
       "    </tr>\n",
       "    <tr>\n",
       "      <th>36815</th>\n",
       "      <td>disableenable submit button form fill</td>\n",
       "      <td>form submit button disabledenabled depend form...</td>\n",
       "      <td>javascript forms submit disabled-control</td>\n",
       "      <td>56</td>\n",
       "      <td>disableenable submit button form fill form sub...</td>\n",
       "    </tr>\n",
       "    <tr>\n",
       "      <th>36816</th>\n",
       "      <td>how keep net console app run</td>\n",
       "      <td>consider console application start service sep...</td>\n",
       "      <td>c# multithreading sleep manualresetevent</td>\n",
       "      <td>53</td>\n",
       "      <td>how keep net console app run consider console ...</td>\n",
       "    </tr>\n",
       "    <tr>\n",
       "      <th>36817</th>\n",
       "      <td>how avoid javalangnoclassdeffounderror</td>\n",
       "      <td>code add text exist doc file itll save another...</td>\n",
       "      <td>java apache-poi noclassdeffounderror doc</td>\n",
       "      <td>165</td>\n",
       "      <td>how avoid javalangnoclassdeffounderror code ad...</td>\n",
       "    </tr>\n",
       "    <tr>\n",
       "      <th>36818</th>\n",
       "      <td>jetty throw noclassdeffounderror orgeclipsejet...</td>\n",
       "      <td>maven build throw end build shutdown jetty noc...</td>\n",
       "      <td>java jetty noclassdeffounderror shutdown</td>\n",
       "      <td>290</td>\n",
       "      <td>jetty throw noclassdeffounderror orgeclipsejet...</td>\n",
       "    </tr>\n",
       "  </tbody>\n",
       "</table>\n",
       "<p>36819 rows × 5 columns</p>\n",
       "</div>"
      ],
      "text/plain": [
       "                                                   Title  \\\n",
       "0      android jetpack navigation bottomnavigationvie...   \n",
       "1                        jetpack compose button drawable   \n",
       "2            topappbar flash navigate compose navigation   \n",
       "3               how create recycler view compose jetpack   \n",
       "4                                    how navhostfragment   \n",
       "...                                                  ...   \n",
       "36814  spring rest json can handle managedback refere...   \n",
       "36815              disableenable submit button form fill   \n",
       "36816                       how keep net console app run   \n",
       "36817             how avoid javalangnoclassdeffounderror   \n",
       "36818  jetty throw noclassdeffounderror orgeclipsejet...   \n",
       "\n",
       "                                                    Body  \\\n",
       "0      android jetpack navigation bottomnavigationvie...   \n",
       "1      achieve jetpack compose something button eleva...   \n",
       "2      screen scaffold topappbar navigate jetpack nav...   \n",
       "3      special way create recyclerview compose jetpac...   \n",
       "4      integrate android navigation architecture comp...   \n",
       "...                                                  ...   \n",
       "36814  post httplocalhosttranslators angularjs fronte...   \n",
       "36815  form submit button disabledenabled depend form...   \n",
       "36816  consider console application start service sep...   \n",
       "36817  code add text exist doc file itll save another...   \n",
       "36818  maven build throw end build shutdown jetty noc...   \n",
       "\n",
       "                                                    Tags  Body_word_count  \\\n",
       "0      android android-architecture-components bottom...              131   \n",
       "1      android android-jetpack-compose android-compos...               60   \n",
       "2      android android-jetpack android-jetpack-compos...              198   \n",
       "3      android android-recyclerview android-jetpack-c...                7   \n",
       "4      android android-fragments android-architecture...               48   \n",
       "...                                                  ...              ...   \n",
       "36814            java json hibernate jackson spring-boot              273   \n",
       "36815           javascript forms submit disabled-control               56   \n",
       "36816           c# multithreading sleep manualresetevent               53   \n",
       "36817           java apache-poi noclassdeffounderror doc              165   \n",
       "36818           java jetty noclassdeffounderror shutdown              290   \n",
       "\n",
       "                                                combined  \n",
       "0      android jetpack navigation bottomnavigationvie...  \n",
       "1      jetpack compose button drawable achieve jetpac...  \n",
       "2      topappbar flash navigate compose navigation sc...  \n",
       "3      how create recycler view compose jetpack speci...  \n",
       "4      how navhostfragment integrate android navigati...  \n",
       "...                                                  ...  \n",
       "36814  spring rest json can handle managedback refere...  \n",
       "36815  disableenable submit button form fill form sub...  \n",
       "36816  how keep net console app run consider console ...  \n",
       "36817  how avoid javalangnoclassdeffounderror code ad...  \n",
       "36818  jetty throw noclassdeffounderror orgeclipsejet...  \n",
       "\n",
       "[36819 rows x 5 columns]"
      ]
     },
     "metadata": {},
     "output_type": "display_data"
    }
   ],
   "source": [
    "data = pd.read_csv('Data/df_tags_filtered.csv')\n",
    "# Combinaison des colonnes Title et Body\n",
    "data['combined'] = data['Title'] + \" \" + data['Body']\n",
    "\n",
    "display(data)"
   ]
  },
  {
   "cell_type": "code",
   "execution_count": 26,
   "metadata": {},
   "outputs": [
    {
     "data": {
      "text/html": [
       "<div>\n",
       "<style scoped>\n",
       "    .dataframe tbody tr th:only-of-type {\n",
       "        vertical-align: middle;\n",
       "    }\n",
       "\n",
       "    .dataframe tbody tr th {\n",
       "        vertical-align: top;\n",
       "    }\n",
       "\n",
       "    .dataframe thead th {\n",
       "        text-align: right;\n",
       "    }\n",
       "</style>\n",
       "<table border=\"1\" class=\"dataframe\">\n",
       "  <thead>\n",
       "    <tr style=\"text-align: right;\">\n",
       "      <th></th>\n",
       "      <th>Title</th>\n",
       "      <th>Body</th>\n",
       "      <th>Tags</th>\n",
       "      <th>Body_word_count</th>\n",
       "      <th>combined</th>\n",
       "    </tr>\n",
       "  </thead>\n",
       "  <tbody>\n",
       "    <tr>\n",
       "      <th>0</th>\n",
       "      <td>[android, jetpack, navigation, bottomnavigatio...</td>\n",
       "      <td>[android, jetpack, navigation, bottomnavigatio...</td>\n",
       "      <td>[android, android-architecture-components, bot...</td>\n",
       "      <td>131</td>\n",
       "      <td>android jetpack navigation bottomnavigationvie...</td>\n",
       "    </tr>\n",
       "    <tr>\n",
       "      <th>1</th>\n",
       "      <td>[jetpack, compose, button, drawable]</td>\n",
       "      <td>[achieve, jetpack, compose, something, button,...</td>\n",
       "      <td>[android, android-jetpack-compose, android-com...</td>\n",
       "      <td>60</td>\n",
       "      <td>jetpack compose button drawable achieve jetpac...</td>\n",
       "    </tr>\n",
       "    <tr>\n",
       "      <th>2</th>\n",
       "      <td>[topappbar, flash, navigate, compose, navigation]</td>\n",
       "      <td>[screen, scaffold, topappbar, navigate, jetpac...</td>\n",
       "      <td>[android, android-jetpack, android-jetpack-com...</td>\n",
       "      <td>198</td>\n",
       "      <td>topappbar flash navigate compose navigation sc...</td>\n",
       "    </tr>\n",
       "    <tr>\n",
       "      <th>3</th>\n",
       "      <td>[how, create, recycler, view, compose, jetpack]</td>\n",
       "      <td>[special, way, create, recyclerview, compose, ...</td>\n",
       "      <td>[android, android-recyclerview, android-jetpac...</td>\n",
       "      <td>7</td>\n",
       "      <td>how create recycler view compose jetpack speci...</td>\n",
       "    </tr>\n",
       "    <tr>\n",
       "      <th>4</th>\n",
       "      <td>[how, navhostfragment]</td>\n",
       "      <td>[integrate, android, navigation, architecture,...</td>\n",
       "      <td>[android, android-fragments, android-architect...</td>\n",
       "      <td>48</td>\n",
       "      <td>how navhostfragment integrate android navigati...</td>\n",
       "    </tr>\n",
       "    <tr>\n",
       "      <th>...</th>\n",
       "      <td>...</td>\n",
       "      <td>...</td>\n",
       "      <td>...</td>\n",
       "      <td>...</td>\n",
       "      <td>...</td>\n",
       "    </tr>\n",
       "    <tr>\n",
       "      <th>36814</th>\n",
       "      <td>[spring, rest, json, can, handle, managedback,...</td>\n",
       "      <td>[post, httplocalhosttranslators, angularjs, fr...</td>\n",
       "      <td>[java, json, hibernate, jackson, spring-boot]</td>\n",
       "      <td>273</td>\n",
       "      <td>spring rest json can handle managedback refere...</td>\n",
       "    </tr>\n",
       "    <tr>\n",
       "      <th>36815</th>\n",
       "      <td>[disableenable, submit, button, form, fill]</td>\n",
       "      <td>[form, submit, button, disabledenabled, depend...</td>\n",
       "      <td>[javascript, forms, submit, disabled-control]</td>\n",
       "      <td>56</td>\n",
       "      <td>disableenable submit button form fill form sub...</td>\n",
       "    </tr>\n",
       "    <tr>\n",
       "      <th>36816</th>\n",
       "      <td>[how, keep, net, console, app, run]</td>\n",
       "      <td>[consider, console, application, start, servic...</td>\n",
       "      <td>[c#, multithreading, sleep, manualresetevent]</td>\n",
       "      <td>53</td>\n",
       "      <td>how keep net console app run consider console ...</td>\n",
       "    </tr>\n",
       "    <tr>\n",
       "      <th>36817</th>\n",
       "      <td>[how, avoid, javalangnoclassdeffounderror]</td>\n",
       "      <td>[code, add, text, exist, doc, file, itll, save...</td>\n",
       "      <td>[java, apache-poi, noclassdeffounderror, doc]</td>\n",
       "      <td>165</td>\n",
       "      <td>how avoid javalangnoclassdeffounderror code ad...</td>\n",
       "    </tr>\n",
       "    <tr>\n",
       "      <th>36818</th>\n",
       "      <td>[jetty, throw, noclassdeffounderror, orgeclips...</td>\n",
       "      <td>[maven, build, throw, end, build, shutdown, je...</td>\n",
       "      <td>[java, jetty, noclassdeffounderror, shutdown]</td>\n",
       "      <td>290</td>\n",
       "      <td>jetty throw noclassdeffounderror orgeclipsejet...</td>\n",
       "    </tr>\n",
       "  </tbody>\n",
       "</table>\n",
       "<p>36819 rows × 5 columns</p>\n",
       "</div>"
      ],
      "text/plain": [
       "                                                   Title  \\\n",
       "0      [android, jetpack, navigation, bottomnavigatio...   \n",
       "1                   [jetpack, compose, button, drawable]   \n",
       "2      [topappbar, flash, navigate, compose, navigation]   \n",
       "3        [how, create, recycler, view, compose, jetpack]   \n",
       "4                                 [how, navhostfragment]   \n",
       "...                                                  ...   \n",
       "36814  [spring, rest, json, can, handle, managedback,...   \n",
       "36815        [disableenable, submit, button, form, fill]   \n",
       "36816                [how, keep, net, console, app, run]   \n",
       "36817         [how, avoid, javalangnoclassdeffounderror]   \n",
       "36818  [jetty, throw, noclassdeffounderror, orgeclips...   \n",
       "\n",
       "                                                    Body  \\\n",
       "0      [android, jetpack, navigation, bottomnavigatio...   \n",
       "1      [achieve, jetpack, compose, something, button,...   \n",
       "2      [screen, scaffold, topappbar, navigate, jetpac...   \n",
       "3      [special, way, create, recyclerview, compose, ...   \n",
       "4      [integrate, android, navigation, architecture,...   \n",
       "...                                                  ...   \n",
       "36814  [post, httplocalhosttranslators, angularjs, fr...   \n",
       "36815  [form, submit, button, disabledenabled, depend...   \n",
       "36816  [consider, console, application, start, servic...   \n",
       "36817  [code, add, text, exist, doc, file, itll, save...   \n",
       "36818  [maven, build, throw, end, build, shutdown, je...   \n",
       "\n",
       "                                                    Tags  Body_word_count  \\\n",
       "0      [android, android-architecture-components, bot...              131   \n",
       "1      [android, android-jetpack-compose, android-com...               60   \n",
       "2      [android, android-jetpack, android-jetpack-com...              198   \n",
       "3      [android, android-recyclerview, android-jetpac...                7   \n",
       "4      [android, android-fragments, android-architect...               48   \n",
       "...                                                  ...              ...   \n",
       "36814      [java, json, hibernate, jackson, spring-boot]              273   \n",
       "36815      [javascript, forms, submit, disabled-control]               56   \n",
       "36816      [c#, multithreading, sleep, manualresetevent]               53   \n",
       "36817      [java, apache-poi, noclassdeffounderror, doc]              165   \n",
       "36818      [java, jetty, noclassdeffounderror, shutdown]              290   \n",
       "\n",
       "                                                combined  \n",
       "0      android jetpack navigation bottomnavigationvie...  \n",
       "1      jetpack compose button drawable achieve jetpac...  \n",
       "2      topappbar flash navigate compose navigation sc...  \n",
       "3      how create recycler view compose jetpack speci...  \n",
       "4      how navhostfragment integrate android navigati...  \n",
       "...                                                  ...  \n",
       "36814  spring rest json can handle managedback refere...  \n",
       "36815  disableenable submit button form fill form sub...  \n",
       "36816  how keep net console app run consider console ...  \n",
       "36817  how avoid javalangnoclassdeffounderror code ad...  \n",
       "36818  jetty throw noclassdeffounderror orgeclipsejet...  \n",
       "\n",
       "[36819 rows x 5 columns]"
      ]
     },
     "metadata": {},
     "output_type": "display_data"
    }
   ],
   "source": [
    "# transformation en liste\n",
    "\n",
    "data['Body'] = data.Body.apply(lambda text: words_tokenize(text))\n",
    "data['Title'] = data.Title.apply(lambda text: words_tokenize(text))\n",
    "data['Tags'] = data.Tags.apply(lambda text: words_tokenize(text))\n",
    "display(data)"
   ]
  },
  {
   "cell_type": "code",
   "execution_count": 27,
   "metadata": {},
   "outputs": [],
   "source": [
    "X = data[['Title','Body']]  # features\n",
    "y = data['Tags']       # target\n",
    "\n",
    "\n",
    "df = pd.DataFrame(data)\n",
    "def merge_and_keep_first_occurrence(row):\n",
    "    merged = row['Title'] + row['Body']\n",
    "    return list(dict.fromkeys(merged))\n",
    "# Appliquer la fonction à chaque ligne du DataFrame\n",
    "df['Merged'] = data.apply(merge_and_keep_first_occurrence, axis=1)\n",
    "\n",
    "X = df['Merged']\n"
   ]
  },
  {
   "cell_type": "code",
   "execution_count": 28,
   "metadata": {},
   "outputs": [
    {
     "data": {
      "text/plain": [
       "(29455,)"
      ]
     },
     "metadata": {},
     "output_type": "display_data"
    },
    {
     "data": {
      "text/plain": [
       "(7364,)"
      ]
     },
     "metadata": {},
     "output_type": "display_data"
    }
   ],
   "source": [
    "# Séparation des données en train et test sets. \n",
    "# Sélection d'un sample pour accélérer le processus de test\n",
    "X_train, X_test, y_train, y_test = train_test_split(X,y,\n",
    "    test_size=0.2,\n",
    "    random_state=42\n",
    ")\n",
    "\n",
    "\n",
    "display(X_train.shape, X_test.shape)\n",
    "X_train_sample = X_train.sample(2000, random_state=42)\n",
    "y_train_sample = y_train.loc[X_train_sample.index]\n",
    "X_test_sample = X_test.sample(400, random_state=42)\n",
    "y_test_sample = y_test.loc[X_test_sample.index]"
   ]
  },
  {
   "cell_type": "code",
   "execution_count": 29,
   "metadata": {},
   "outputs": [
    {
     "name": "stdout",
     "output_type": "stream",
     "text": [
      "(2000,) (400,)\n",
      "(2000,) (400,)\n"
     ]
    }
   ],
   "source": [
    "print(X_train_sample.shape, X_test_sample.shape)\n",
    "print(y_train_sample.shape, y_test_sample.shape)"
   ]
  },
  {
   "cell_type": "markdown",
   "metadata": {},
   "source": [
    "## Pipeline vectorisation"
   ]
  },
  {
   "cell_type": "code",
   "execution_count": 30,
   "metadata": {},
   "outputs": [],
   "source": [
    "\n",
    "\n",
    "class CustomTfidfVectorizer(BaseEstimator, TransformerMixin):\n",
    "    def __init__(self, min_df=0.008, max_df=0.9, ngram_range=(1, 1), norm='l2', use_idf=True, stop_words='english'):\n",
    "        self.min_df = min_df\n",
    "        self.max_df = max_df\n",
    "        self.ngram_range = ngram_range\n",
    "        self.norm = norm\n",
    "        self.use_idf = use_idf\n",
    "        self.stop_words = stop_words\n",
    "        self.vectorizer = TfidfVectorizer(min_df=self.min_df, max_df=self.max_df,\n",
    "                                          ngram_range=self.ngram_range, norm=self.norm,\n",
    "                                          use_idf=self.use_idf, stop_words=self.stop_words)\n",
    "\n",
    "    def fit(self, X, y=None):\n",
    "        self.vectorizer.fit(X)\n",
    "        return self\n",
    "\n",
    "    def transform(self, X, y=None):\n",
    "        return self.vectorizer.transform(X)\n",
    "    \n",
    "\n",
    "\n",
    "class CustomWord2VecVectorizer(BaseEstimator, TransformerMixin):\n",
    "    def __init__(self, vector_size=400, window=8, min_count=6,alpha=0.025, epochs=5,workers=5, sg=0, max_vocab_size=None):\n",
    "        self.vector_size = vector_size\n",
    "        self.window = window\n",
    "        self.min_count = min_count\n",
    "        self.alpha = alpha\n",
    "        self.epochs = epochs\n",
    "        self.workers = workers\n",
    "        self.sg = sg\n",
    "        self.max_vocab_size = max_vocab_size\n",
    "        self.model = Word2Vec(\n",
    "            vector_size=self.vector_size, \n",
    "            window=self.window, \n",
    "            workers=self.workers, \n",
    "            sg=self.sg\n",
    "        )\n",
    "    def fit(self, X, y=None):\n",
    "        self.model = Word2Vec(\n",
    "            vector_size=self.vector_size, \n",
    "            window=self.window, \n",
    "            min_count=self.min_count,\n",
    "            alpha=self.alpha,\n",
    "            workers=self.workers,\n",
    "            sg=self.sg,\n",
    "            max_vocab_size=self.max_vocab_size\n",
    "        )\n",
    "        self.model.build_vocab(X)\n",
    "        return self\n",
    "\n",
    "    def transform(self, X, y=None):\n",
    "        # Moyenne des vecteurs de mots pour chaque document\n",
    "        return np.array([np.mean([self.model.wv[w] for w in words if w in self.model.wv]\n",
    "                                 or [np.zeros(self.model.vector_size)], axis=0)\n",
    "                         for words in X])\n",
    "\n",
    "\n",
    "\n",
    "\n",
    "class CustomBERTVectorizer(BaseEstimator, TransformerMixin):\n",
    "    def __init__(self, max_length=128):\n",
    "        self.tokenizer = BertTokenizer.from_pretrained('bert-base-uncased')\n",
    "        self.model = BertModel.from_pretrained('bert-base-uncased')\n",
    "        self.max_length = max_length\n",
    "\n",
    "    def fit(self, X, y=None):\n",
    "        return self\n",
    "\n",
    "    def transform(self, X, y=None):\n",
    "        # Tokenization\n",
    "        inputs = self.tokenizer(X, padding=True, truncation=True, max_length=self.max_length, return_tensors=\"pt\")\n",
    "        \n",
    "        # Passer les inputs à travers BERT\n",
    "        with torch.no_grad():\n",
    "            outputs = self.model(**inputs)\n",
    "        \n",
    "        # Récupérer la représentation des tokens CLS (premier token)\n",
    "        embeddings = outputs.last_hidden_state[:, 0, :].numpy()\n",
    "        \n",
    "        return embeddings\n",
    "\n",
    "\n",
    "\n",
    "class SentenceTransformerVectorizer(BaseEstimator, TransformerMixin):\n",
    "    def __init__(self, model_name='all-MiniLM-L6-v2'):\n",
    "        self.model = SentenceTransformer(model_name)\n",
    "\n",
    "    def fit(self, X, y=None):\n",
    "        return self\n",
    "\n",
    "    def transform(self, X):\n",
    "        return self.model.encode(X)\n",
    "    \n",
    "\n",
    "def create_tfidf_pipeline():\n",
    "    pipeline_tfidf = Pipeline([\n",
    "        \n",
    "        (\"tfidf\", TfidfVectorizer(min_df=0.007, max_df=0.9, ngram_range=(1, 1), stop_words='english')),\n",
    "        #('mlb', MultiLabelBinarizer()),\n",
    "        (\"clf\", OneVsRestClassifier(LogisticRegression())),\n",
    "    ])\n",
    "    return pipeline_tfidf\n",
    "\n",
    "def create_random_forest_pipeline():\n",
    "    pipeline_rf = Pipeline([\n",
    "        (\"tfidf\", CustomTfidfVectorizer()),\n",
    "        (\"RandomForest\", RandomForestClassifier(n_estimators=100, random_state=42))\n",
    "    ])\n",
    "    return pipeline_rf\n",
    "def create_word2vec_pipeline():\n",
    "    pipeline_word2vec = Pipeline([\n",
    "        # essayer avec une version pre entrainee\n",
    "        (\"word2vec\", CustomWord2VecVectorizer()),\n",
    "        (\"clf_w2v\", OneVsRestClassifier(LogisticRegression())),\n",
    "\n",
    "    ])\n",
    "    return pipeline_word2vec\n",
    "\n",
    "def create_bert_pipeline():\n",
    "    pipeline_bert = Pipeline([\n",
    "        (\"bert_vectorizer\", CustomBERTVectorizer()),\n",
    "        (\"clf_bert\", OneVsRestClassifier(LogisticRegression(max_iter=1000)))\n",
    "    ])\n",
    "    return pipeline_bert\n",
    "\n",
    "def create_use_pipeline():\n",
    "    pipeline_use = Pipeline([\n",
    "        (\"use_vectorizer\", SentenceTransformerVectorizer()),\n",
    "        (\"clf_use\", OneVsRestClassifier(LogisticRegression(max_iter=1000, C=1)))\n",
    "    ])\n",
    "    return pipeline_use\n",
    "\n",
    "from xgboost import XGBClassifier\n",
    "\n",
    "def create_use_xgb_pipeline():\n",
    "    pipeline_use = Pipeline([\n",
    "        (\"use_vectorizer\", SentenceTransformerVectorizer()),\n",
    "        (\"xgb_use\", XGBClassifier())\n",
    "    ])\n",
    "    return pipeline_use\n",
    "\n"
   ]
  },
  {
   "cell_type": "code",
   "execution_count": 31,
   "metadata": {},
   "outputs": [
    {
     "name": "stderr",
     "output_type": "stream",
     "text": [
      "/opt/anaconda3/envs/realboa2/lib/python3.9/site-packages/sklearn/preprocessing/_label.py:900: UserWarning: unknown class(es) ['actionsheetpicker', 'affix', 'aggregation-framework', 'alert', 'allocator', 'amazon-dynamodb', 'android-alertdialog', 'android-api-31', 'android-bitmap', 'android-broadcastreceiver', 'android-contentprovider', 'android-coordinatorlayout', 'android-cursorloader', 'android-dark-theme', 'android-darkmode', 'android-databinding', 'android-gridview', 'android-image', 'android-ndk-r7', 'android-relativelayout', 'android-studio-2.0', 'android-studio-arctic-fox', 'android-wifi', 'androidx', 'angular12', 'angular2-routing', 'angularjs-controller', 'app-config', 'apple-m1', 'application-server', 'arduino', 'argumentnullexception', 'array-column', 'array.prototype.map', 'asp.net-core-tag-helpers', 'asp.net-membership', 'assemblies', 'assembly', 'asynchronous-postback', 'atl', 'audiotoolbox', 'autoresetevent', 'azman', 'background-process', 'badimageformatexception', 'baseadapter', 'blocking', 'bluetooth-service-discovery', 'bootstrap-5', 'bootstrap-tokenfield', 'bootstrapping', 'browser-sync', 'brute-force', 'c#-8.0', 'c++14', 'calendar', 'cassandra', 'cdn', 'checkmarx', 'claims-based-identity', 'cloud-foundry', 'code-coverage', 'code-signing-entitlements', 'coded-ui-tests', 'command-line-parser', 'comparator', 'compile-time-constant', 'complex-numbers', 'conditional-compilation', 'console.writeline', 'cordova-2.0.0', 'cordova-plugins', 'counting', 'criteria-api', 'cryptography', 'currying', 'custom-action', 'data-visualization', 'database-normalization', 'datetime-select', 'dbnull', 'decorator', 'definition', 'devexpress', 'device-detection', 'dirty-checking', 'dirty-tracking', 'disassembly', 'disposable', 'distutils', 'django-admin', 'django-crispy-forms', 'django-rest-framework', 'django-serializer', 'dllexport', 'dnx', 'docker-compose', 'dto', 'dynamics-crm-2016', 'easy-install', 'eclipse-2021-09', 'eclipse-plugin', 'ecmascript-2017', 'electron', 'email-validation', 'enumerators', 'evaluation', 'excel', 'facebook-javascript-sdk', 'family-tree', 'fb.ui', 'fbjs', 'fibonacci', 'file-conversion', 'file-exists', 'filenotfoundexception', 'firebase-admin', 'freebsd', 'function-call-operator', 'functional-interface', 'functor', 'gaussianblur', 'genealogy', 'generic-method', 'gensim', 'global', 'google-cloud-endpoints', 'google-drive-api', 'gpgpu', 'gradient', 'gravity-forms-plugin', 'handler', 'hashset', 'hashtable', 'hasownproperty', 'hikaricp', 'hook-wordpress', 'http-get', 'http-status-code-407', 'httpwebrequest', 'i18next', 'icons', 'implication', 'in-app-subscription', 'inappbrowser', 'incognito-mode', 'inject', 'internet-explorer-10', 'intersect', 'ios8-share-extension', 'ios8.3', 'ip', 'ipc', 'java-17', 'java-native-interface', 'java-sealed-type', 'jetty', 'jpa-2.0', 'jpeg', 'jquery-traversing', 'jquery-ui-sortable', 'json-framework', 'jstree', 'keras-layer', 'large-files', 'lazy-initialization', 'linkbutton', 'linker-errors', 'linq-to-objects', 'lodash', 'macos-monterey', 'manifest', 'map-directions', 'material-components', 'maven-assembly-plugin', 'memory-alignment', 'micro-optimization', 'mingw', 'mkannotation', 'mkannotationview', 'modeladmin', 'modular-arithmetic', 'mouse', 'msdtc', 'multiline', 'multiparameter', 'mvvm', 'mysql-connector', 'mysql-connector-python', 'native-base', 'navigation-architecture', 'nested-loops', 'nestjs', 'nsarraycontroller', 'nscalendar', 'nscell', 'nsnotificationcenter', 'nsnull', 'nsoperation', 'nsoperationqueue', 'nstableview', 'nullable-reference-types', 'numpy-ndarray', 'oauth', 'object-object-mapping', 'opencl', 'openjdk-17', 'pageload', 'pagemethods', 'pandas-explode', 'pgm', 'placeholder', 'polymorphic-associations', 'postal-code', 'postman', 'posts', 'preloader', 'proxy', 'pseudo-element', 'pycrypto', 'qcommandlineparser', 'query-optimization', 'qunit', 'react-ga', 'react-native-flexbox', 'react-table', 'react-table-v7', 'redundancy', 'reload', 'renderscript', 'reportingservices-2005', 'requestanimationframe', 'requirejs', 'restful-authentication', 'reverse-proxy', 'rippledrawable', 'robolectric', 'rspec-rails', 'rspec2', 'same-origin-policy', 'saxparser', 'scrapy', 'screen-readers', 'script-component', 'seaborn', 'sealed-class', 'secure-coding', 'sensors', 'setup-project', 'shared-libraries', 'sigmoid', 'slice', 'slider', 'slowcheetah', 'smalltalk', 'spark-cassandra-connector', 'spring-data-elasticsearch', 'spring-environment', 'sprockets', 'sql-execution-plan', 'sql-job', 'sse', 'static-block', 'static-constructor', 'static-if', 'static-initialization', 'status', 'street-address', 'string-comparison', 'strongname', 'subplot', 'subscription', 'svg', 'swipe-gesture', 'symbols', 'system-sounds', 'tabcontrol', 'tailwind-css', 'template-specialization', 'temporal', 'three.js', 'thumbnails', 'timeout', 'tkinter', 'tokenize', 'trace', 'transactionscope', 'transformation', 'uialertcontroller', 'uicollectionviewlayout', 'uitextviewdelegate', 'undefined-reference', 'unsatisfiedlinkerror', 'use-effect', 'user-agent', 'validationattribute', 'versioning', 'visualsvn', 'webdriverwait', 'windows-firewall', 'windows-firewall-api', 'windows-server-2003', 'windows-server-2008', 'word-wrap', 'wordpress-theming', 'wysiwyg', 'x-frame-options', 'x86', 'xml-deserialization', 'xtragrid', 'yeoman', 'zend-form', 'zend-validate'] will be ignored\n",
      "  warnings.warn(\n"
     ]
    }
   ],
   "source": [
    "# Instanciation de MLB et transformation des labels\n",
    "mlb = MultiLabelBinarizer()\n",
    "y_train_sample_trans = mlb.fit_transform(y_train_sample)\n",
    "y_test_sample_trans = mlb.transform(y_test_sample) \n"
   ]
  },
  {
   "cell_type": "markdown",
   "metadata": {},
   "source": [
    "## Vectorisation avec TF_IDF.\n",
    "  Régréssion logistique:  \n",
    "\n",
    "  RandomForest: \n",
    "\n",
    "  XGBoost: \n",
    "\n",
    "  Jaccard Score : C'est la taille de l'intersection des labels prédits et des vrais labels divisée par la taille de l'union des labels prédits et des vrais labels. C'est une bonne métrique pour la classification multilabels car elle prend en compte la présence et l'absence de chaque label.\n",
    "\n",
    "  Precision, Recall, F1 Score : Ces métriques peuvent également être utilisées dans le contexte multilabels, en calculant la métrique pour chaque label individuellement, puis en prenant la moyenne."
   ]
  },
  {
   "cell_type": "code",
   "execution_count": 32,
   "metadata": {},
   "outputs": [
    {
     "data": {
      "text/plain": [
       "'\\npipeline_tfidf_grid = create_tfidf_pipeline()\\nparam_grid_tfidf = {\\n    \\'tfidf__min_df\\': [1, 5, 10],\\n    \\'tfidf__max_df\\': [0.5, 0.75, 1.0],\\n    \\'tfidf__ngram_range\\': [(1, 1), (1, 2), (1, 3)],\\n    \\'tfidf__norm\\': [\\'l1\\', \\'l2\\'],\\n    \\'tfidf__use_idf\\': [True, False],\\n    \\n}\\n\\ngrid_search = GridSearchCV(\\n    pipeline_tfidf_grid, param_grid=param_grid_tfidf, \\n    cv=5,scoring=[\\'f1_weighted\\'] ,verbose=1, refit=\\'f1_weighted\\')\\n\\n# Convertir la matrice CSR en une liste de listes de mots\\n#X_train_sample_trans_list = [row.nonzero()[1].tolist() for row in X_train_sample]\\n\\n# Entraîner le modèle Word2Vec\\ngrid_search.fit(X_train_sample_str, y_train_sample_trans)\\n\\n#grid_search.fit(X_train_sample_trans, y_train_sample_trans)\\n\\nprint(\"Meilleurs hyperparamètres : \", grid_search.best_params_)'"
      ]
     },
     "execution_count": 32,
     "metadata": {},
     "output_type": "execute_result"
    }
   ],
   "source": [
    "from sklearn.model_selection import GridSearchCV\n",
    "\n",
    "'''\n",
    "pipeline_tfidf_grid = create_tfidf_pipeline()\n",
    "param_grid_tfidf = {\n",
    "    'tfidf__min_df': [1, 5, 10],\n",
    "    'tfidf__max_df': [0.5, 0.75, 1.0],\n",
    "    'tfidf__ngram_range': [(1, 1), (1, 2), (1, 3)],\n",
    "    'tfidf__norm': ['l1', 'l2'],\n",
    "    'tfidf__use_idf': [True, False],\n",
    "    \n",
    "}\n",
    "\n",
    "grid_search = GridSearchCV(\n",
    "    pipeline_tfidf_grid, param_grid=param_grid_tfidf, \n",
    "    cv=5,scoring=['f1_weighted'] ,verbose=1, refit='f1_weighted')\n",
    "\n",
    "# Convertir la matrice CSR en une liste de listes de mots\n",
    "#X_train_sample_trans_list = [row.nonzero()[1].tolist() for row in X_train_sample]\n",
    "\n",
    "# Entraîner le modèle Word2Vec\n",
    "grid_search.fit(X_train_sample_str, y_train_sample_trans)\n",
    "\n",
    "#grid_search.fit(X_train_sample_trans, y_train_sample_trans)\n",
    "\n",
    "print(\"Meilleurs hyperparamètres : \", grid_search.best_params_)'''"
   ]
  },
  {
   "cell_type": "code",
   "execution_count": 33,
   "metadata": {},
   "outputs": [],
   "source": [
    "pipeline_tfidf = create_tfidf_pipeline()\n",
    "\n",
    "# Convertir les listes en chaînes de caractères\n",
    "X_train_sample_str = [' '.join(text) for text in X_train_sample]\n",
    "X_test_sample_str = [' '.join(text) for text in X_test_sample]\n",
    "\n",
    "# Utiliser les chaînes de caractères pour l'ajustement et la transformation\n",
    "X_train_sample_trans = pipeline_tfidf[\"tfidf\"].fit_transform(X_train_sample_str)\n",
    "X_test_sample_trans = pipeline_tfidf[\"tfidf\"].transform(X_test_sample_str)\n"
   ]
  },
  {
   "cell_type": "markdown",
   "metadata": {},
   "source": [
    "### Regression logistique OneVsRestClassifier"
   ]
  },
  {
   "cell_type": "code",
   "execution_count": 34,
   "metadata": {},
   "outputs": [
    {
     "name": "stderr",
     "output_type": "stream",
     "text": [
      "huggingface/tokenizers: The current process just got forked, after parallelism has already been used. Disabling parallelism to avoid deadlocks...\n",
      "To disable this warning, you can either:\n",
      "\t- Avoid using `tokenizers` before the fork if possible\n",
      "\t- Explicitly set the environment variable TOKENIZERS_PARALLELISM=(true | false)\n",
      "huggingface/tokenizers: The current process just got forked, after parallelism has already been used. Disabling parallelism to avoid deadlocks...\n",
      "To disable this warning, you can either:\n",
      "\t- Avoid using `tokenizers` before the fork if possible\n",
      "\t- Explicitly set the environment variable TOKENIZERS_PARALLELISM=(true | false)\n",
      "huggingface/tokenizers: The current process just got forked, after parallelism has already been used. Disabling parallelism to avoid deadlocks...\n",
      "To disable this warning, you can either:\n",
      "\t- Avoid using `tokenizers` before the fork if possible\n",
      "\t- Explicitly set the environment variable TOKENIZERS_PARALLELISM=(true | false)\n"
     ]
    },
    {
     "data": {
      "text/plain": [
       "<ActiveRun: >"
      ]
     },
     "execution_count": 34,
     "metadata": {},
     "output_type": "execute_result"
    }
   ],
   "source": [
    "mlflow.set_experiment(\"MLflow Quickstart\")\n",
    "mlflow.end_run()\n",
    "mlflow.start_run(run_name=\"TF-IDF-LogisticRegression\")"
   ]
  },
  {
   "cell_type": "code",
   "execution_count": 35,
   "metadata": {},
   "outputs": [
    {
     "name": "stdout",
     "output_type": "stream",
     "text": [
      "shape de prediction (400, 2665)\n",
      "shape de prediction (400, 1025)\n"
     ]
    },
    {
     "name": "stderr",
     "output_type": "stream",
     "text": [
      "huggingface/tokenizers: The current process just got forked, after parallelism has already been used. Disabling parallelism to avoid deadlocks...\n",
      "To disable this warning, you can either:\n",
      "\t- Avoid using `tokenizers` before the fork if possible\n",
      "\t- Explicitly set the environment variable TOKENIZERS_PARALLELISM=(true | false)\n"
     ]
    },
    {
     "data": {
      "text/plain": [
       "<mlflow.models.model.ModelInfo at 0x4b9fb4d60>"
      ]
     },
     "execution_count": 35,
     "metadata": {},
     "output_type": "execute_result"
    }
   ],
   "source": [
    "fit_time =time.time()\n",
    "lr_tfidf = pipeline_tfidf.named_steps['clf'].fit(X_train_sample_trans, y_train_sample_trans)\n",
    "fit_time = time.time() - fit_time\n",
    "\n",
    "\n",
    "predict_time = time.time()\n",
    "predictions = lr_tfidf.predict_proba(X_test_sample_trans)\n",
    "predict_time = time.time() - predict_time\n",
    "\n",
    "print(\"shape de prediction\",predictions.shape)\n",
    "print(\"shape de prediction\",X_test_sample_trans.shape)\n",
    "\n",
    "mlflow.log_param(\"min_df\", pipeline_tfidf.named_steps['tfidf'].min_df)\n",
    "mlflow.log_param(\"max_df\", pipeline_tfidf.named_steps['tfidf'].max_df)\n",
    "mlflow.log_metric(\"train_size\", X_train_sample.count())\n",
    "mlflow.log_metric(\"test_size\", X_test_sample.count())\n",
    "mlflow.log_metric(\"fit_time\", fit_time)\n",
    "mlflow.sklearn.log_model(lr_tfidf, \"model\")\n"
   ]
  },
  {
   "cell_type": "code",
   "execution_count": 36,
   "metadata": {},
   "outputs": [],
   "source": [
    "probabilities = predictions\n",
    "# Utiliser la fonction pour selectionner les tags les plus probables\n",
    "binary_predictions = select_top_n_tags(probabilities, threshold=0.15, top_n=7)"
   ]
  },
  {
   "cell_type": "code",
   "execution_count": 37,
   "metadata": {},
   "outputs": [
    {
     "name": "stdout",
     "output_type": "stream",
     "text": [
      "Jaccard Score: 0.24373214285714287\n",
      "Precision: 0.596875\n",
      "Recall: 0.2729166666666667\n",
      "F1 Score: 0.35554761904761906\n"
     ]
    },
    {
     "name": "stderr",
     "output_type": "stream",
     "text": [
      "/opt/anaconda3/envs/realboa2/lib/python3.9/site-packages/sklearn/metrics/_classification.py:1517: UndefinedMetricWarning: Precision is ill-defined and being set to 0.0 in samples with no predicted labels. Use `zero_division` parameter to control this behavior.\n",
      "  _warn_prf(average, modifier, f\"{metric.capitalize()} is\", len(result))\n"
     ]
    }
   ],
   "source": [
    "# Calcul des scores\n",
    "precision_test = precision_score(y_test_sample_trans, binary_predictions, average='samples')\n",
    "recall_test = recall_score(y_test_sample_trans, binary_predictions, average='samples')\n",
    "f1_test = f1_score(y_test_sample_trans, binary_predictions, average='samples')\n",
    "jaccardScore =jaccard_score(y_test_sample_trans, binary_predictions, average='samples')\n",
    "print(\"Jaccard Score:\" , jaccardScore)\n",
    "print(\"Precision:\", precision_test)\n",
    "print(\"Recall:\", recall_test)\n",
    "print(\"F1 Score:\", f1_test)\n",
    "\n"
   ]
  },
  {
   "cell_type": "code",
   "execution_count": 38,
   "metadata": {},
   "outputs": [],
   "source": [
    "# Transformation des tags prédits en texte\n",
    "tags_predicted_to_text(binary_predictions, mlb)"
   ]
  },
  {
   "cell_type": "code",
   "execution_count": 39,
   "metadata": {},
   "outputs": [
    {
     "name": "stdout",
     "output_type": "stream",
     "text": [
      "Taux de remplissage des tags : 0.06%\n"
     ]
    }
   ],
   "source": [
    "# Calculer le nombre total de tags prédits\n",
    "total_predicted_tags = binary_predictions.sum()\n",
    "\n",
    "# Calculer le nombre total de tags possibles\n",
    "total_possible_tags = y_test_sample_trans.size\n",
    "\n",
    "# Calculer le taux de remplissage\n",
    "fill_rate = total_predicted_tags / total_possible_tags\n",
    "\n",
    "print(f'Taux de remplissage des tags : {fill_rate * 100:.2f}%')"
   ]
  },
  {
   "cell_type": "code",
   "execution_count": 40,
   "metadata": {},
   "outputs": [
    {
     "name": "stderr",
     "output_type": "stream",
     "text": [
      "/opt/anaconda3/envs/realboa2/lib/python3.9/site-packages/sklearn/metrics/_classification.py:1517: UndefinedMetricWarning: Precision is ill-defined and being set to 0.0 in samples with no predicted labels. Use `zero_division` parameter to control this behavior.\n",
      "  _warn_prf(average, modifier, f\"{metric.capitalize()} is\", len(result))\n"
     ]
    },
    {
     "data": {
      "text/html": [
       "<div>\n",
       "<style scoped>\n",
       "    .dataframe tbody tr th:only-of-type {\n",
       "        vertical-align: middle;\n",
       "    }\n",
       "\n",
       "    .dataframe tbody tr th {\n",
       "        vertical-align: top;\n",
       "    }\n",
       "\n",
       "    .dataframe thead th {\n",
       "        text-align: right;\n",
       "    }\n",
       "</style>\n",
       "<table border=\"1\" class=\"dataframe\">\n",
       "  <thead>\n",
       "    <tr style=\"text-align: right;\">\n",
       "      <th></th>\n",
       "      <th>Vectorizer</th>\n",
       "      <th>precision Test</th>\n",
       "      <th>recall_test</th>\n",
       "      <th>f1_test</th>\n",
       "      <th>Jaccard Test</th>\n",
       "      <th>Fit Time</th>\n",
       "      <th>predict_time</th>\n",
       "    </tr>\n",
       "  </thead>\n",
       "  <tbody>\n",
       "    <tr>\n",
       "      <th>0</th>\n",
       "      <td>lr_Tfidf</td>\n",
       "      <td>0.596875</td>\n",
       "      <td>0.272917</td>\n",
       "      <td>0.355548</td>\n",
       "      <td>0.243732</td>\n",
       "      <td>7.980354</td>\n",
       "      <td>0.114709</td>\n",
       "    </tr>\n",
       "  </tbody>\n",
       "</table>\n",
       "</div>"
      ],
      "text/plain": [
       "  Vectorizer  precision Test  recall_test   f1_test  Jaccard Test  Fit Time  \\\n",
       "0   lr_Tfidf        0.596875     0.272917  0.355548      0.243732  7.980354   \n",
       "\n",
       "   predict_time  \n",
       "0      0.114709  "
      ]
     },
     "metadata": {},
     "output_type": "display_data"
    }
   ],
   "source": [
    "# Afficher les metrics de classification\n",
    "result_lr_tfidf = stocker_results(name=\"lr_Tfidf\", \n",
    "                                precision_test=precision_score(y_test_sample_trans, binary_predictions, average='samples'),\n",
    "                                f1_test=f1_score(y_test_sample_trans, binary_predictions, average='samples'),\n",
    "                                recall_test = recall_score(y_test_sample_trans, binary_predictions, average='samples'),\n",
    "                                jaccard_test=jaccard_score(y_test_sample_trans, binary_predictions, average='samples'), \n",
    "                                fit_time=fit_time, predict_time = predict_time)"
   ]
  },
  {
   "cell_type": "code",
   "execution_count": 41,
   "metadata": {},
   "outputs": [
    {
     "data": {
      "image/png": "[encoded data removed]",
      "text/plain": [
       "<Figure size 600x500 with 1 Axes>"
      ]
     },
     "metadata": {},
     "output_type": "display_data"
    }
   ],
   "source": [
    "plot_result(result_lr_tfidf)"
   ]
  },
  {
   "cell_type": "code",
   "execution_count": 42,
   "metadata": {},
   "outputs": [],
   "source": [
    "mlflow.end_run()"
   ]
  },
  {
   "cell_type": "markdown",
   "metadata": {},
   "source": [
    "### Random Forest"
   ]
  },
  {
   "cell_type": "code",
   "execution_count": 43,
   "metadata": {},
   "outputs": [
    {
     "data": {
      "text/plain": [
       "'mlflow.start_run(run_name=\"tfidf_Random Forest\")\\nrf_tfidf = create_random_forest_pipeline()\\n# Utiliser les chaînes de caractères pour l\\'ajustement et la transformation\\nX_train_sample_trans = rf_tfidf[\"tfidf\"].fit_transform(X_train_sample_str)\\nX_test_sample_trans = rf_tfidf[\"tfidf\"].transform(X_test_sample_str)'"
      ]
     },
     "execution_count": 43,
     "metadata": {},
     "output_type": "execute_result"
    }
   ],
   "source": [
    "'''mlflow.start_run(run_name=\"tfidf_Random Forest\")\n",
    "rf_tfidf = create_random_forest_pipeline()\n",
    "# Utiliser les chaînes de caractères pour l'ajustement et la transformation\n",
    "X_train_sample_trans = rf_tfidf[\"tfidf\"].fit_transform(X_train_sample_str)\n",
    "X_test_sample_trans = rf_tfidf[\"tfidf\"].transform(X_test_sample_str)'''\n"
   ]
  },
  {
   "cell_type": "code",
   "execution_count": 44,
   "metadata": {},
   "outputs": [
    {
     "data": {
      "text/plain": [
       "'fit_time_rf =time.time()\\nrf_tfidf.fit(X_train_sample_str, y_train_sample_trans)\\nfit_time_rf = time.time() - fit_time_rf\\nprint(\"Fit time : \", fit_time)\\n\\npredict_time_rf = time.time()\\npredictions_rf = rf_tfidf.predict(X_test_sample_str)\\npredict_time_rf = time.time() - predict_time_rf\\n\\nmlflow.log_param(\"min_df\", pipeline_tfidf.named_steps[\\'tfidf\\'].min_df)\\nmlflow.log_param(\"max_df\", pipeline_tfidf.named_steps[\\'tfidf\\'].max_df)\\nmlflow.log_metric(\"train_size\", X_train_sample.count())\\nmlflow.log_metric(\"test_size\", X_test_sample.count())\\nmlflow.log_metric(\"fit_time\", fit_time)\\nmlflow.sklearn.log_model(rf_tfidf, \"model\")'"
      ]
     },
     "execution_count": 44,
     "metadata": {},
     "output_type": "execute_result"
    }
   ],
   "source": [
    "'''fit_time_rf =time.time()\n",
    "rf_tfidf.fit(X_train_sample_str, y_train_sample_trans)\n",
    "fit_time_rf = time.time() - fit_time_rf\n",
    "print(\"Fit time : \", fit_time)\n",
    "\n",
    "predict_time_rf = time.time()\n",
    "predictions_rf = rf_tfidf.predict(X_test_sample_str)\n",
    "predict_time_rf = time.time() - predict_time_rf\n",
    "\n",
    "mlflow.log_param(\"min_df\", pipeline_tfidf.named_steps['tfidf'].min_df)\n",
    "mlflow.log_param(\"max_df\", pipeline_tfidf.named_steps['tfidf'].max_df)\n",
    "mlflow.log_metric(\"train_size\", X_train_sample.count())\n",
    "mlflow.log_metric(\"test_size\", X_test_sample.count())\n",
    "mlflow.log_metric(\"fit_time\", fit_time)\n",
    "mlflow.sklearn.log_model(rf_tfidf, \"model\")'''"
   ]
  },
  {
   "cell_type": "code",
   "execution_count": 45,
   "metadata": {},
   "outputs": [
    {
     "data": {
      "text/plain": [
       "'probabilities = predictions_rf\\n\\n# Utiliser la fonction pour obtenir les tags prédits\\nrf_binary_predictions = select_top_n_tags(probabilities, threshold=0.05, top_n=5)'"
      ]
     },
     "execution_count": 45,
     "metadata": {},
     "output_type": "execute_result"
    }
   ],
   "source": [
    "'''probabilities = predictions_rf\n",
    "\n",
    "# Utiliser la fonction pour obtenir les tags prédits\n",
    "rf_binary_predictions = select_top_n_tags(probabilities, threshold=0.05, top_n=5)'''"
   ]
  },
  {
   "cell_type": "code",
   "execution_count": 46,
   "metadata": {},
   "outputs": [
    {
     "data": {
      "text/plain": [
       "'print(\"Precision:\", precision_score(y_test_sample_trans, rf_binary_predictions, average=\\'samples\\'))\\nprint(\"Recall:\", recall_score(y_test_sample_trans, rf_binary_predictions, average=\\'samples\\'))\\nprint(\"F1 Score:\", f1_score(y_test_sample_trans, rf_binary_predictions, average=\\'samples\\'))\\ntags_predicted_to_text(rf_binary_predictions, mlb)'"
      ]
     },
     "execution_count": 46,
     "metadata": {},
     "output_type": "execute_result"
    }
   ],
   "source": [
    "'''print(\"Precision:\", precision_score(y_test_sample_trans, rf_binary_predictions, average='samples'))\n",
    "print(\"Recall:\", recall_score(y_test_sample_trans, rf_binary_predictions, average='samples'))\n",
    "print(\"F1 Score:\", f1_score(y_test_sample_trans, rf_binary_predictions, average='samples'))\n",
    "tags_predicted_to_text(rf_binary_predictions, mlb)'''\n",
    "\n"
   ]
  },
  {
   "cell_type": "code",
   "execution_count": 47,
   "metadata": {},
   "outputs": [
    {
     "data": {
      "text/plain": [
       "'result_rf_tfidf = stocker_results(name=\"rf_Tfidf\",precision_test=precision_score(y_test_sample_trans, rf_binary_predictions,average=\\'samples\\'),\\n                                f1_test=f1_score(y_test_sample_trans, rf_binary_predictions, average=\\'samples\\'),\\n                                recall_test = recall_score(y_test_sample_trans, rf_binary_predictions, average=\\'samples\\'),\\n                                jaccard_test=jaccard_score(y_test_sample_trans, rf_binary_predictions, average=\\'samples\\'),\\n                                fit_time=fit_time_rf, predict_time = predict_time_rf)\\n\\nplot_result(result_rf_tfidf)'"
      ]
     },
     "execution_count": 47,
     "metadata": {},
     "output_type": "execute_result"
    }
   ],
   "source": [
    "'''result_rf_tfidf = stocker_results(name=\"rf_Tfidf\",precision_test=precision_score(y_test_sample_trans, rf_binary_predictions,average='samples'),\n",
    "                                f1_test=f1_score(y_test_sample_trans, rf_binary_predictions, average='samples'),\n",
    "                                recall_test = recall_score(y_test_sample_trans, rf_binary_predictions, average='samples'),\n",
    "                                jaccard_test=jaccard_score(y_test_sample_trans, rf_binary_predictions, average='samples'),\n",
    "                                fit_time=fit_time_rf, predict_time = predict_time_rf)\n",
    "\n",
    "plot_result(result_rf_tfidf)'''\n"
   ]
  },
  {
   "cell_type": "code",
   "execution_count": 48,
   "metadata": {},
   "outputs": [],
   "source": [
    "mlflow.end_run()"
   ]
  },
  {
   "cell_type": "markdown",
   "metadata": {},
   "source": [
    "## XG boost"
   ]
  },
  {
   "cell_type": "code",
   "execution_count": 49,
   "metadata": {},
   "outputs": [
    {
     "name": "stderr",
     "output_type": "stream",
     "text": [
      "/opt/anaconda3/envs/realboa2/lib/python3.9/site-packages/huggingface_hub/file_download.py:1132: FutureWarning: `resume_download` is deprecated and will be removed in version 1.0.0. Downloads always resume when possible. If you want to force a new download, use `force_download=True`.\n",
      "  warnings.warn(\n"
     ]
    }
   ],
   "source": [
    "mlflow.end_run()\n",
    "mlflow.start_run(run_name=\"USE_xgboost\")\n",
    "pipeline_use = create_use_xgb_pipeline()\n",
    "\n",
    "# Utiliser les chaînes de caractères pour l'ajustement et la transformation\n",
    "vec_time =time.time()\n",
    "X_train_sample_trans_use = pipeline_use['use_vectorizer'].fit_transform(X_train_sample_str)\n",
    "X_test_sample_trans_use = pipeline_use['use_vectorizer'].transform(X_test_sample_str)\n",
    "vec_time = time.time() - vec_time\n",
    "mlflow.log_metric(\"vec_time\", vec_time)\n",
    "mlb4 = MultiLabelBinarizer()\n",
    "y_train_sample_trans = mlb4.fit_transform(y_train_sample)"
   ]
  },
  {
   "cell_type": "code",
   "execution_count": 50,
   "metadata": {},
   "outputs": [
    {
     "name": "stderr",
     "output_type": "stream",
     "text": [
      "/opt/anaconda3/envs/realboa2/lib/python3.9/site-packages/sklearn/metrics/_classification.py:1517: UndefinedMetricWarning: Precision is ill-defined and being set to 0.0 in samples with no predicted labels. Use `zero_division` parameter to control this behavior.\n",
      "  _warn_prf(average, modifier, f\"{metric.capitalize()} is\", len(result))\n"
     ]
    },
    {
     "name": "stdout",
     "output_type": "stream",
     "text": [
      "Precision: 0.6180833333333333\n",
      "Recall: 0.2897083333333333\n",
      "F1 Score: 0.3727956349206349\n"
     ]
    },
    {
     "name": "stderr",
     "output_type": "stream",
     "text": [
      "huggingface/tokenizers: The current process just got forked, after parallelism has already been used. Disabling parallelism to avoid deadlocks...\n",
      "To disable this warning, you can either:\n",
      "\t- Avoid using `tokenizers` before the fork if possible\n",
      "\t- Explicitly set the environment variable TOKENIZERS_PARALLELISM=(true | false)\n",
      "/opt/anaconda3/envs/realboa2/lib/python3.9/site-packages/_distutils_hack/__init__.py:11: UserWarning: Distutils was imported before Setuptools, but importing Setuptools also replaces the `distutils` module in `sys.modules`. This may lead to undesirable behaviors or errors. To avoid these issues, avoid using distutils directly, ensure that setuptools is installed in the traditional way (e.g. not an editable install), and/or make sure that setuptools is always imported before distutils.\n",
      "  warnings.warn(\n",
      "/opt/anaconda3/envs/realboa2/lib/python3.9/site-packages/_distutils_hack/__init__.py:26: UserWarning: Setuptools is replacing distutils.\n",
      "  warnings.warn(\"Setuptools is replacing distutils.\")\n"
     ]
    },
    {
     "data": {
      "text/plain": [
       "<mlflow.models.model.ModelInfo at 0x4b9f47a00>"
      ]
     },
     "execution_count": 50,
     "metadata": {},
     "output_type": "execute_result"
    }
   ],
   "source": [
    "fit_time =time.time()\n",
    "lr_use = pipeline_use.named_steps['xgb_use'].fit(X_train_sample_trans_use, y_train_sample_trans)\n",
    "fit_time = time.time() - fit_time\n",
    "\n",
    "predict_time = time.time()\n",
    "predictions_use = lr_use.predict_proba(X_test_sample_trans_use)\n",
    "predict_time = time.time() - predict_time\n",
    "\n",
    "\n",
    "binary_pred_use =select_top_n_tags(predictions_use, threshold=0.15, top_n=5)\n",
    "tags_predicted_to_text(binary_pred_use, mlb4)\n",
    "print(\"Precision:\", precision_score(y_test_sample_trans, binary_pred_use, average='samples'))\n",
    "print(\"Recall:\", recall_score(y_test_sample_trans, binary_pred_use, average='samples'))\n",
    "print(\"F1 Score:\", f1_score(y_test_sample_trans, binary_pred_use, average='samples'))\n",
    "mlflow.log_metric(\"train_size\", X_train_sample.count())\n",
    "mlflow.log_metric(\"test_size\", X_test_sample.count())\n",
    "mlflow.sklearn.log_model(lr_use, \"model\")"
   ]
  },
  {
   "cell_type": "code",
   "execution_count": 51,
   "metadata": {},
   "outputs": [
    {
     "name": "stderr",
     "output_type": "stream",
     "text": [
      "/opt/anaconda3/envs/realboa2/lib/python3.9/site-packages/sklearn/metrics/_classification.py:1517: UndefinedMetricWarning: Precision is ill-defined and being set to 0.0 in samples with no predicted labels. Use `zero_division` parameter to control this behavior.\n",
      "  _warn_prf(average, modifier, f\"{metric.capitalize()} is\", len(result))\n"
     ]
    },
    {
     "data": {
      "text/html": [
       "<div>\n",
       "<style scoped>\n",
       "    .dataframe tbody tr th:only-of-type {\n",
       "        vertical-align: middle;\n",
       "    }\n",
       "\n",
       "    .dataframe tbody tr th {\n",
       "        vertical-align: top;\n",
       "    }\n",
       "\n",
       "    .dataframe thead th {\n",
       "        text-align: right;\n",
       "    }\n",
       "</style>\n",
       "<table border=\"1\" class=\"dataframe\">\n",
       "  <thead>\n",
       "    <tr style=\"text-align: right;\">\n",
       "      <th></th>\n",
       "      <th>Vectorizer</th>\n",
       "      <th>precision Test</th>\n",
       "      <th>recall_test</th>\n",
       "      <th>f1_test</th>\n",
       "      <th>Jaccard Test</th>\n",
       "      <th>Fit Time</th>\n",
       "      <th>predict_time</th>\n",
       "    </tr>\n",
       "  </thead>\n",
       "  <tbody>\n",
       "    <tr>\n",
       "      <th>0</th>\n",
       "      <td>xgb_use</td>\n",
       "      <td>0.618083</td>\n",
       "      <td>0.289708</td>\n",
       "      <td>0.372796</td>\n",
       "      <td>0.259833</td>\n",
       "      <td>442.885388</td>\n",
       "      <td>0.050239</td>\n",
       "    </tr>\n",
       "  </tbody>\n",
       "</table>\n",
       "</div>"
      ],
      "text/plain": [
       "  Vectorizer  precision Test  recall_test   f1_test  Jaccard Test    Fit Time  \\\n",
       "0    xgb_use        0.618083     0.289708  0.372796      0.259833  442.885388   \n",
       "\n",
       "   predict_time  \n",
       "0      0.050239  "
      ]
     },
     "metadata": {},
     "output_type": "display_data"
    },
    {
     "data": {
      "image/png": "[encoded data removed]",
      "text/plain": [
       "<Figure size 600x500 with 1 Axes>"
      ]
     },
     "metadata": {},
     "output_type": "display_data"
    }
   ],
   "source": [
    "result_xgb_use = stocker_results(name=\"xgb_use\",precision_test=precision_score(y_test_sample_trans, binary_pred_use, average='samples'),\n",
    "                                f1_test=f1_score(y_test_sample_trans, binary_pred_use,average='samples'),\n",
    "                                recall_test = recall_score(y_test_sample_trans, binary_pred_use,average='samples'),\n",
    "                                jaccard_test=jaccard_score(y_test_sample_trans, binary_pred_use, average='samples'),\n",
    "                                fit_time=fit_time, predict_time = predict_time)\n",
    "\n",
    "plot_result(result_xgb_use)\n",
    "mlflow.end_run()"
   ]
  },
  {
   "cell_type": "markdown",
   "metadata": {},
   "source": [
    "## Embedding avec word2Vec"
   ]
  },
  {
   "cell_type": "code",
   "execution_count": 52,
   "metadata": {},
   "outputs": [],
   "source": [
    "mlflow.start_run(run_name=\"Word2Vec\")\n",
    "pipeline_w2v = create_word2vec_pipeline()\n",
    "# Utiliser les chaînes de caractères pour l'ajustement et la transformation\n",
    "X_train_sample_trans_w2v = pipeline_w2v['word2vec'].fit_transform(X_train_sample_str)\n",
    "X_test_sample_trans_w2v = pipeline_w2v['word2vec'].transform(X_test_sample_str)\n",
    "\n",
    "mlb2 = MultiLabelBinarizer()\n",
    "y_train_sample_trans = mlb2.fit_transform(y_train_sample)"
   ]
  },
  {
   "cell_type": "code",
   "execution_count": 53,
   "metadata": {},
   "outputs": [
    {
     "name": "stdout",
     "output_type": "stream",
     "text": [
      "(2000, 400)\n",
      "(400, 400)\n"
     ]
    }
   ],
   "source": [
    "print(X_train_sample_trans_w2v.shape)\n",
    "print(X_test_sample_trans_w2v.shape)"
   ]
  },
  {
   "cell_type": "code",
   "execution_count": 54,
   "metadata": {},
   "outputs": [
    {
     "name": "stderr",
     "output_type": "stream",
     "text": [
      "huggingface/tokenizers: The current process just got forked, after parallelism has already been used. Disabling parallelism to avoid deadlocks...\n",
      "To disable this warning, you can either:\n",
      "\t- Avoid using `tokenizers` before the fork if possible\n",
      "\t- Explicitly set the environment variable TOKENIZERS_PARALLELISM=(true | false)\n",
      "/opt/anaconda3/envs/realboa2/lib/python3.9/site-packages/_distutils_hack/__init__.py:11: UserWarning: Distutils was imported before Setuptools, but importing Setuptools also replaces the `distutils` module in `sys.modules`. This may lead to undesirable behaviors or errors. To avoid these issues, avoid using distutils directly, ensure that setuptools is installed in the traditional way (e.g. not an editable install), and/or make sure that setuptools is always imported before distutils.\n",
      "  warnings.warn(\n",
      "/opt/anaconda3/envs/realboa2/lib/python3.9/site-packages/_distutils_hack/__init__.py:26: UserWarning: Setuptools is replacing distutils.\n",
      "  warnings.warn(\"Setuptools is replacing distutils.\")\n"
     ]
    },
    {
     "data": {
      "text/plain": [
       "<mlflow.models.model.ModelInfo at 0x4ba03f040>"
      ]
     },
     "execution_count": 54,
     "metadata": {},
     "output_type": "execute_result"
    }
   ],
   "source": [
    "fit_time =time.time()\n",
    "lr_w2v = pipeline_w2v.named_steps['clf_w2v'].fit(X_train_sample_trans_w2v, y_train_sample_trans)\n",
    "fit_time = time.time() - fit_time\n",
    "\n",
    "\n",
    "predict_time = time.time()\n",
    "predictions_w2v = lr_w2v.predict_proba(X_test_sample_trans_w2v)\n",
    "predict_time = time.time() - predict_time\n",
    "\n",
    "mlflow.log_metric(\"fit_time\", fit_time)\n",
    "mlflow.log_metric(\"train_size\", X_train_sample.count())\n",
    "mlflow.log_metric(\"test_size\", X_test_sample.count())\n",
    "mlflow.sklearn.log_model(lr_tfidf, \"model\")\n",
    "\n"
   ]
  },
  {
   "cell_type": "code",
   "execution_count": 55,
   "metadata": {},
   "outputs": [
    {
     "data": {
      "text/html": [
       "<div>\n",
       "<style scoped>\n",
       "    .dataframe tbody tr th:only-of-type {\n",
       "        vertical-align: middle;\n",
       "    }\n",
       "\n",
       "    .dataframe tbody tr th {\n",
       "        vertical-align: top;\n",
       "    }\n",
       "\n",
       "    .dataframe thead th {\n",
       "        text-align: right;\n",
       "    }\n",
       "</style>\n",
       "<table border=\"1\" class=\"dataframe\">\n",
       "  <thead>\n",
       "    <tr style=\"text-align: right;\">\n",
       "      <th></th>\n",
       "      <th>Vectorizer</th>\n",
       "      <th>precision Test</th>\n",
       "      <th>recall_test</th>\n",
       "      <th>f1_test</th>\n",
       "      <th>Jaccard Test</th>\n",
       "      <th>Fit Time</th>\n",
       "      <th>predict_time</th>\n",
       "    </tr>\n",
       "  </thead>\n",
       "  <tbody>\n",
       "    <tr>\n",
       "      <th>0</th>\n",
       "      <td>lr_w2v</td>\n",
       "      <td>0.145</td>\n",
       "      <td>0.215917</td>\n",
       "      <td>0.169161</td>\n",
       "      <td>0.097605</td>\n",
       "      <td>49.149339</td>\n",
       "      <td>1.611059</td>\n",
       "    </tr>\n",
       "  </tbody>\n",
       "</table>\n",
       "</div>"
      ],
      "text/plain": [
       "  Vectorizer  precision Test  recall_test   f1_test  Jaccard Test   Fit Time  \\\n",
       "0     lr_w2v           0.145     0.215917  0.169161      0.097605  49.149339   \n",
       "\n",
       "   predict_time  \n",
       "0      1.611059  "
      ]
     },
     "metadata": {},
     "output_type": "display_data"
    },
    {
     "data": {
      "image/png": "[encoded data removed]",
      "text/plain": [
       "<Figure size 600x500 with 1 Axes>"
      ]
     },
     "metadata": {},
     "output_type": "display_data"
    }
   ],
   "source": [
    "# Utiliser la fonction pour obtenir les tags prédits\n",
    "rf_w2v_binary_predictions = select_top_n_tags(predictions_w2v , threshold=0.1, top_n=5)\n",
    "\n",
    "tags_predicted_to_text(rf_w2v_binary_predictions, mlb2)\n",
    "result_lr_w2f = stocker_results(name=\"lr_w2v\",precision_test=precision_score(y_test_sample_trans, rf_w2v_binary_predictions,average='samples'),\n",
    "                                f1_test=f1_score(y_test_sample_trans, rf_w2v_binary_predictions,average='samples'),\n",
    "                                recall_test = recall_score(y_test_sample_trans, rf_w2v_binary_predictions,average='samples'),\n",
    "                                jaccard_test=jaccard_score(y_test_sample_trans, rf_w2v_binary_predictions, average='samples'),\n",
    "                                fit_time=fit_time, predict_time = predict_time)\n",
    "\n",
    "plot_result(result_lr_w2f)"
   ]
  },
  {
   "cell_type": "code",
   "execution_count": 56,
   "metadata": {},
   "outputs": [
    {
     "name": "stdout",
     "output_type": "stream",
     "text": [
      "Precision: 0.145\n",
      "Recall: 0.21591666666666667\n",
      "F1 Score: 0.16916071428571428\n"
     ]
    }
   ],
   "source": [
    "print(\"Precision:\", precision_score(y_test_sample_trans, rf_w2v_binary_predictions, average='samples'))\n",
    "print(\"Recall:\", recall_score(y_test_sample_trans, rf_w2v_binary_predictions, average='samples'))\n",
    "print(\"F1 Score:\", f1_score(y_test_sample_trans, rf_w2v_binary_predictions, average='samples'))"
   ]
  },
  {
   "cell_type": "code",
   "execution_count": 57,
   "metadata": {},
   "outputs": [],
   "source": [
    "mlflow.end_run()"
   ]
  },
  {
   "cell_type": "markdown",
   "metadata": {},
   "source": [
    "### BERT Embedding\n",
    "\n",
    "\"Bidirectional Encoder Representations from Transformers\":  \n",
    "\n",
    "BERT est un modèle de langage bidirectionnel basé sur des transformers, capable de capturer les relations complexes entre les mots en utilisant le contexte gauche-droite et droite-gauche pour générer des embeddings riches en informations pour chaque mot."
   ]
  },
  {
   "cell_type": "code",
   "execution_count": 58,
   "metadata": {},
   "outputs": [],
   "source": [
    "mlflow.start_run(run_name=\"BERT\")\n",
    "pipeline_bert = create_bert_pipeline()\n",
    "\n",
    "# Utiliser les chaînes de caractères pour l'ajustement et la transformation\n",
    "vec_time =time.time()\n",
    "X_train_sample_trans_bert = pipeline_bert['bert_vectorizer'].fit_transform(X_train_sample_str)\n",
    "X_test_sample_trans_bert = pipeline_bert['bert_vectorizer'].transform(X_test_sample_str)\n",
    "vec_time = time.time() - vec_time\n",
    "mlflow.log_metric(\"vec_time\", vec_time)\n",
    "mlflow.log_metric(\"train_size\", X_train_sample.count())\n",
    "mlflow.log_metric(\"test_size\", X_test_sample.count())\n",
    "mlb3 = MultiLabelBinarizer()\n",
    "y_train_sample_trans = mlb3.fit_transform(y_train_sample)"
   ]
  },
  {
   "cell_type": "code",
   "execution_count": 59,
   "metadata": {},
   "outputs": [
    {
     "name": "stdout",
     "output_type": "stream",
     "text": [
      "Precision: 0.2607083333333333\n",
      "Recall: 0.3468333333333334\n",
      "F1 Score: 0.2872797619047619\n"
     ]
    }
   ],
   "source": [
    "fit_time =time.time()\n",
    "lr_bert = pipeline_bert.named_steps['clf_bert'].fit(X_train_sample_trans_bert, y_train_sample_trans)\n",
    "fit_time = time.time() - fit_time\n",
    "\n",
    "predict_time = time.time()\n",
    "predictions_bert = lr_bert.predict_proba(X_test_sample_trans_bert)\n",
    "predict_time = time.time() - predict_time\n",
    "\n",
    "binary_pred_bert =select_top_n_tags(predictions_bert, threshold=0.05, top_n=5)\n",
    "tags_predicted_to_text(binary_pred_bert, mlb3)\n",
    "print(\"Precision:\", precision_score(y_test_sample_trans, binary_pred_bert, average='samples'))\n",
    "print(\"Recall:\", recall_score(y_test_sample_trans, binary_pred_bert, average='samples'))\n",
    "print(\"F1 Score:\", f1_score(y_test_sample_trans, binary_pred_bert, average='samples'))\n",
    "\n"
   ]
  },
  {
   "cell_type": "code",
   "execution_count": 60,
   "metadata": {},
   "outputs": [
    {
     "data": {
      "text/html": [
       "<div>\n",
       "<style scoped>\n",
       "    .dataframe tbody tr th:only-of-type {\n",
       "        vertical-align: middle;\n",
       "    }\n",
       "\n",
       "    .dataframe tbody tr th {\n",
       "        vertical-align: top;\n",
       "    }\n",
       "\n",
       "    .dataframe thead th {\n",
       "        text-align: right;\n",
       "    }\n",
       "</style>\n",
       "<table border=\"1\" class=\"dataframe\">\n",
       "  <thead>\n",
       "    <tr style=\"text-align: right;\">\n",
       "      <th></th>\n",
       "      <th>Vectorizer</th>\n",
       "      <th>precision Test</th>\n",
       "      <th>recall_test</th>\n",
       "      <th>f1_test</th>\n",
       "      <th>Jaccard Test</th>\n",
       "      <th>Fit Time</th>\n",
       "      <th>predict_time</th>\n",
       "    </tr>\n",
       "  </thead>\n",
       "  <tbody>\n",
       "    <tr>\n",
       "      <th>0</th>\n",
       "      <td>lr_bert</td>\n",
       "      <td>0.260708</td>\n",
       "      <td>0.346833</td>\n",
       "      <td>0.28728</td>\n",
       "      <td>0.182366</td>\n",
       "      <td>101.797967</td>\n",
       "      <td>2.016687</td>\n",
       "    </tr>\n",
       "  </tbody>\n",
       "</table>\n",
       "</div>"
      ],
      "text/plain": [
       "  Vectorizer  precision Test  recall_test  f1_test  Jaccard Test    Fit Time  \\\n",
       "0    lr_bert        0.260708     0.346833  0.28728      0.182366  101.797967   \n",
       "\n",
       "   predict_time  \n",
       "0      2.016687  "
      ]
     },
     "metadata": {},
     "output_type": "display_data"
    },
    {
     "data": {
      "image/png": "[encoded data removed]",
      "text/plain": [
       "<Figure size 600x500 with 1 Axes>"
      ]
     },
     "metadata": {},
     "output_type": "display_data"
    }
   ],
   "source": [
    "result_lr_bert = stocker_results(name=\"lr_bert\",precision_test=precision_score(y_test_sample_trans, binary_pred_bert,average='samples'),\n",
    "                                f1_test=f1_score(y_test_sample_trans, binary_pred_bert,average='samples'),\n",
    "                                recall_test = recall_score(y_test_sample_trans, binary_pred_bert,average='samples'),\n",
    "                                jaccard_test=jaccard_score(y_test_sample_trans, binary_pred_bert, average='samples'),\n",
    "                                fit_time=fit_time, predict_time = predict_time)\n",
    "\n",
    "plot_result(result_lr_bert)\n",
    "mlflow.end_run()"
   ]
  },
  {
   "cell_type": "markdown",
   "metadata": {},
   "source": [
    "## USE embbedding"
   ]
  },
  {
   "cell_type": "code",
   "execution_count": 61,
   "metadata": {},
   "outputs": [
    {
     "name": "stderr",
     "output_type": "stream",
     "text": [
      "/opt/anaconda3/envs/realboa2/lib/python3.9/site-packages/huggingface_hub/file_download.py:1132: FutureWarning: `resume_download` is deprecated and will be removed in version 1.0.0. Downloads always resume when possible. If you want to force a new download, use `force_download=True`.\n",
      "  warnings.warn(\n"
     ]
    }
   ],
   "source": [
    "mlflow.start_run(run_name=\"USE\")\n",
    "pipeline_use = create_use_pipeline()\n",
    "\n",
    "# Utiliser les chaînes de caractères pour l'ajustement et la transformation\n",
    "vec_time =time.time()\n",
    "X_train_sample_trans_use = pipeline_use['use_vectorizer'].fit_transform(X_train_sample_str)\n",
    "X_test_sample_trans_use = pipeline_use['use_vectorizer'].transform(X_test_sample_str)\n",
    "vec_time = time.time() - vec_time\n",
    "mlflow.log_metric(\"vec_time\", vec_time)\n",
    "mlb4 = MultiLabelBinarizer()\n",
    "y_train_sample_trans = mlb4.fit_transform(y_train_sample)"
   ]
  },
  {
   "cell_type": "code",
   "execution_count": 62,
   "metadata": {},
   "outputs": [
    {
     "name": "stderr",
     "output_type": "stream",
     "text": [
      "/opt/anaconda3/envs/realboa2/lib/python3.9/site-packages/sklearn/metrics/_classification.py:1517: UndefinedMetricWarning: Precision is ill-defined and being set to 0.0 in samples with no predicted labels. Use `zero_division` parameter to control this behavior.\n",
      "  _warn_prf(average, modifier, f\"{metric.capitalize()} is\", len(result))\n"
     ]
    },
    {
     "name": "stdout",
     "output_type": "stream",
     "text": [
      "Precision: 0.651125\n",
      "Recall: 0.375\n",
      "F1 Score: 0.44445634920634924\n"
     ]
    },
    {
     "name": "stderr",
     "output_type": "stream",
     "text": [
      "huggingface/tokenizers: The current process just got forked, after parallelism has already been used. Disabling parallelism to avoid deadlocks...\n",
      "To disable this warning, you can either:\n",
      "\t- Avoid using `tokenizers` before the fork if possible\n",
      "\t- Explicitly set the environment variable TOKENIZERS_PARALLELISM=(true | false)\n",
      "/opt/anaconda3/envs/realboa2/lib/python3.9/site-packages/_distutils_hack/__init__.py:11: UserWarning: Distutils was imported before Setuptools, but importing Setuptools also replaces the `distutils` module in `sys.modules`. This may lead to undesirable behaviors or errors. To avoid these issues, avoid using distutils directly, ensure that setuptools is installed in the traditional way (e.g. not an editable install), and/or make sure that setuptools is always imported before distutils.\n",
      "  warnings.warn(\n",
      "/opt/anaconda3/envs/realboa2/lib/python3.9/site-packages/_distutils_hack/__init__.py:26: UserWarning: Setuptools is replacing distutils.\n",
      "  warnings.warn(\"Setuptools is replacing distutils.\")\n"
     ]
    },
    {
     "data": {
      "text/plain": [
       "<mlflow.models.model.ModelInfo at 0x4ba779b50>"
      ]
     },
     "execution_count": 62,
     "metadata": {},
     "output_type": "execute_result"
    }
   ],
   "source": [
    "fit_time =time.time()\n",
    "lr_use = pipeline_use.named_steps['clf_use'].fit(X_train_sample_trans_use, y_train_sample_trans)\n",
    "fit_time = time.time() - fit_time\n",
    "\n",
    "predict_time = time.time()\n",
    "predictions_use = lr_use.predict_proba(X_test_sample_trans_use)\n",
    "predict_time = time.time() - predict_time\n",
    "\n",
    "\n",
    "binary_pred_use =select_top_n_tags(predictions_use, threshold=0.15, top_n=5)\n",
    "tags_predicted_to_text(binary_pred_use, mlb4)\n",
    "print(\"Precision:\", precision_score(y_test_sample_trans, binary_pred_use, average='samples'))\n",
    "print(\"Recall:\", recall_score(y_test_sample_trans, binary_pred_use, average='samples'))\n",
    "print(\"F1 Score:\", f1_score(y_test_sample_trans, binary_pred_use, average='samples'))\n",
    "mlflow.log_metric(\"train_size\", X_train_sample.count())\n",
    "mlflow.log_metric(\"test_size\", X_test_sample.count())\n",
    "mlflow.sklearn.log_model(lr_use, \"model\")"
   ]
  },
  {
   "cell_type": "code",
   "execution_count": 63,
   "metadata": {},
   "outputs": [
    {
     "name": "stderr",
     "output_type": "stream",
     "text": [
      "/opt/anaconda3/envs/realboa2/lib/python3.9/site-packages/sklearn/metrics/_classification.py:1517: UndefinedMetricWarning: Precision is ill-defined and being set to 0.0 in samples with no predicted labels. Use `zero_division` parameter to control this behavior.\n",
      "  _warn_prf(average, modifier, f\"{metric.capitalize()} is\", len(result))\n"
     ]
    },
    {
     "data": {
      "text/html": [
       "<div>\n",
       "<style scoped>\n",
       "    .dataframe tbody tr th:only-of-type {\n",
       "        vertical-align: middle;\n",
       "    }\n",
       "\n",
       "    .dataframe tbody tr th {\n",
       "        vertical-align: top;\n",
       "    }\n",
       "\n",
       "    .dataframe thead th {\n",
       "        text-align: right;\n",
       "    }\n",
       "</style>\n",
       "<table border=\"1\" class=\"dataframe\">\n",
       "  <thead>\n",
       "    <tr style=\"text-align: right;\">\n",
       "      <th></th>\n",
       "      <th>Vectorizer</th>\n",
       "      <th>precision Test</th>\n",
       "      <th>recall_test</th>\n",
       "      <th>f1_test</th>\n",
       "      <th>Jaccard Test</th>\n",
       "      <th>Fit Time</th>\n",
       "      <th>predict_time</th>\n",
       "    </tr>\n",
       "  </thead>\n",
       "  <tbody>\n",
       "    <tr>\n",
       "      <th>0</th>\n",
       "      <td>lr_use</td>\n",
       "      <td>0.651125</td>\n",
       "      <td>0.375</td>\n",
       "      <td>0.444456</td>\n",
       "      <td>0.309519</td>\n",
       "      <td>49.169417</td>\n",
       "      <td>1.435394</td>\n",
       "    </tr>\n",
       "  </tbody>\n",
       "</table>\n",
       "</div>"
      ],
      "text/plain": [
       "  Vectorizer  precision Test  recall_test   f1_test  Jaccard Test   Fit Time  \\\n",
       "0     lr_use        0.651125        0.375  0.444456      0.309519  49.169417   \n",
       "\n",
       "   predict_time  \n",
       "0      1.435394  "
      ]
     },
     "metadata": {},
     "output_type": "display_data"
    },
    {
     "data": {
      "image/png": "[encoded data removed]",
      "text/plain": [
       "<Figure size 600x500 with 1 Axes>"
      ]
     },
     "metadata": {},
     "output_type": "display_data"
    }
   ],
   "source": [
    "result_lr_use = stocker_results(name=\"lr_use\",precision_test=precision_score(y_test_sample_trans, binary_pred_use, average='samples'),\n",
    "                                f1_test=f1_score(y_test_sample_trans, binary_pred_use,average='samples'),\n",
    "                                recall_test = recall_score(y_test_sample_trans, binary_pred_use,average='samples'),\n",
    "                                jaccard_test=jaccard_score(y_test_sample_trans, binary_pred_use, average='samples'),\n",
    "                                fit_time=fit_time, predict_time = predict_time)\n",
    "\n",
    "plot_result(result_lr_use)\n",
    "mlflow.end_run()"
   ]
  },
  {
   "cell_type": "markdown",
   "metadata": {},
   "source": [
    "## Comparaison des différentes modélisation."
   ]
  },
  {
   "cell_type": "code",
   "execution_count": 64,
   "metadata": {},
   "outputs": [
    {
     "data": {
      "text/html": [
       "<div>\n",
       "<style scoped>\n",
       "    .dataframe tbody tr th:only-of-type {\n",
       "        vertical-align: middle;\n",
       "    }\n",
       "\n",
       "    .dataframe tbody tr th {\n",
       "        vertical-align: top;\n",
       "    }\n",
       "\n",
       "    .dataframe thead th {\n",
       "        text-align: right;\n",
       "    }\n",
       "</style>\n",
       "<table border=\"1\" class=\"dataframe\">\n",
       "  <thead>\n",
       "    <tr style=\"text-align: right;\">\n",
       "      <th></th>\n",
       "      <th>Vectorizer</th>\n",
       "      <th>precision Test</th>\n",
       "      <th>recall_test</th>\n",
       "      <th>f1_test</th>\n",
       "      <th>Jaccard Test</th>\n",
       "      <th>Fit Time</th>\n",
       "      <th>predict_time</th>\n",
       "    </tr>\n",
       "  </thead>\n",
       "  <tbody>\n",
       "    <tr>\n",
       "      <th>0</th>\n",
       "      <td>lr_Tfidf</td>\n",
       "      <td>0.596875</td>\n",
       "      <td>0.272917</td>\n",
       "      <td>0.355548</td>\n",
       "      <td>0.243732</td>\n",
       "      <td>7.980354</td>\n",
       "      <td>0.114709</td>\n",
       "    </tr>\n",
       "    <tr>\n",
       "      <th>0</th>\n",
       "      <td>lr_w2v</td>\n",
       "      <td>0.145000</td>\n",
       "      <td>0.215917</td>\n",
       "      <td>0.169161</td>\n",
       "      <td>0.097605</td>\n",
       "      <td>49.149339</td>\n",
       "      <td>1.611059</td>\n",
       "    </tr>\n",
       "    <tr>\n",
       "      <th>0</th>\n",
       "      <td>lr_bert</td>\n",
       "      <td>0.260708</td>\n",
       "      <td>0.346833</td>\n",
       "      <td>0.287280</td>\n",
       "      <td>0.182366</td>\n",
       "      <td>101.797967</td>\n",
       "      <td>2.016687</td>\n",
       "    </tr>\n",
       "    <tr>\n",
       "      <th>0</th>\n",
       "      <td>lr_use</td>\n",
       "      <td>0.651125</td>\n",
       "      <td>0.375000</td>\n",
       "      <td>0.444456</td>\n",
       "      <td>0.309519</td>\n",
       "      <td>49.169417</td>\n",
       "      <td>1.435394</td>\n",
       "    </tr>\n",
       "    <tr>\n",
       "      <th>0</th>\n",
       "      <td>xgb_use</td>\n",
       "      <td>0.618083</td>\n",
       "      <td>0.289708</td>\n",
       "      <td>0.372796</td>\n",
       "      <td>0.259833</td>\n",
       "      <td>442.885388</td>\n",
       "      <td>0.050239</td>\n",
       "    </tr>\n",
       "  </tbody>\n",
       "</table>\n",
       "</div>"
      ],
      "text/plain": [
       "  Vectorizer  precision Test  recall_test   f1_test  Jaccard Test    Fit Time  \\\n",
       "0   lr_Tfidf        0.596875     0.272917  0.355548      0.243732    7.980354   \n",
       "0     lr_w2v        0.145000     0.215917  0.169161      0.097605   49.149339   \n",
       "0    lr_bert        0.260708     0.346833  0.287280      0.182366  101.797967   \n",
       "0     lr_use        0.651125     0.375000  0.444456      0.309519   49.169417   \n",
       "0    xgb_use        0.618083     0.289708  0.372796      0.259833  442.885388   \n",
       "\n",
       "   predict_time  \n",
       "0      0.114709  \n",
       "0      1.611059  \n",
       "0      2.016687  \n",
       "0      1.435394  \n",
       "0      0.050239  "
      ]
     },
     "metadata": {},
     "output_type": "display_data"
    }
   ],
   "source": [
    "# result_rf_tfidf ( random forest )\n",
    "# Comparaison des résultats \n",
    "df =pd.concat([result_lr_tfidf, result_lr_w2f, result_lr_bert, result_lr_use, result_xgb_use])\n",
    "display(df)\n",
    "mlflow.end_run()"
   ]
  },
  {
   "cell_type": "code",
   "execution_count": 65,
   "metadata": {},
   "outputs": [
    {
     "data": {
      "text/html": [
       "<div>\n",
       "<style scoped>\n",
       "    .dataframe tbody tr th:only-of-type {\n",
       "        vertical-align: middle;\n",
       "    }\n",
       "\n",
       "    .dataframe tbody tr th {\n",
       "        vertical-align: top;\n",
       "    }\n",
       "\n",
       "    .dataframe thead th {\n",
       "        text-align: right;\n",
       "    }\n",
       "</style>\n",
       "<table border=\"1\" class=\"dataframe\">\n",
       "  <thead>\n",
       "    <tr style=\"text-align: right;\">\n",
       "      <th></th>\n",
       "      <th>Vectorizer</th>\n",
       "      <th>precision Test</th>\n",
       "      <th>recall_test</th>\n",
       "      <th>f1_test</th>\n",
       "      <th>Jaccard Test</th>\n",
       "    </tr>\n",
       "  </thead>\n",
       "  <tbody>\n",
       "    <tr>\n",
       "      <th>0</th>\n",
       "      <td>lr_Tfidf</td>\n",
       "      <td>0.596875</td>\n",
       "      <td>0.272917</td>\n",
       "      <td>0.355548</td>\n",
       "      <td>0.243732</td>\n",
       "    </tr>\n",
       "    <tr>\n",
       "      <th>0</th>\n",
       "      <td>lr_w2v</td>\n",
       "      <td>0.145000</td>\n",
       "      <td>0.215917</td>\n",
       "      <td>0.169161</td>\n",
       "      <td>0.097605</td>\n",
       "    </tr>\n",
       "    <tr>\n",
       "      <th>0</th>\n",
       "      <td>lr_bert</td>\n",
       "      <td>0.260708</td>\n",
       "      <td>0.346833</td>\n",
       "      <td>0.287280</td>\n",
       "      <td>0.182366</td>\n",
       "    </tr>\n",
       "    <tr>\n",
       "      <th>0</th>\n",
       "      <td>lr_use</td>\n",
       "      <td>0.651125</td>\n",
       "      <td>0.375000</td>\n",
       "      <td>0.444456</td>\n",
       "      <td>0.309519</td>\n",
       "    </tr>\n",
       "    <tr>\n",
       "      <th>0</th>\n",
       "      <td>xgb_use</td>\n",
       "      <td>0.618083</td>\n",
       "      <td>0.289708</td>\n",
       "      <td>0.372796</td>\n",
       "      <td>0.259833</td>\n",
       "    </tr>\n",
       "  </tbody>\n",
       "</table>\n",
       "</div>"
      ],
      "text/plain": [
       "  Vectorizer  precision Test  recall_test   f1_test  Jaccard Test\n",
       "0   lr_Tfidf        0.596875     0.272917  0.355548      0.243732\n",
       "0     lr_w2v        0.145000     0.215917  0.169161      0.097605\n",
       "0    lr_bert        0.260708     0.346833  0.287280      0.182366\n",
       "0     lr_use        0.651125     0.375000  0.444456      0.309519\n",
       "0    xgb_use        0.618083     0.289708  0.372796      0.259833"
      ]
     },
     "metadata": {},
     "output_type": "display_data"
    },
    {
     "data": {
      "image/png": "[encoded data removed]",
      "text/plain": [
       "<Figure size 700x500 with 1 Axes>"
      ]
     },
     "metadata": {},
     "output_type": "display_data"
    }
   ],
   "source": [
    "all_result = df.loc[:,['Vectorizer', 'precision Test', 'recall_test','f1_test','Jaccard Test']]\n",
    "\n",
    "display(all_result)\n",
    "\n",
    "# Plot\n",
    "width = 0.15  # Largeur des barres\n",
    "fig, ax = plt.subplots(figsize=(7, 5))\n",
    "x = np.arange(len(all_result))  # Emplacements des barres\n",
    "\n",
    "# Plot pour chaque modèle et chaque métrique\n",
    "\n",
    "rects1 = ax.bar(x - width/1, all_result['precision Test'], width, label='precision Test')\n",
    "rects2 = ax.bar(x + width/10, all_result['recall_test'], width, label='recall_test')\n",
    "rects3 = ax.bar(x + width/1, all_result['f1_test'], width, label='f1_test')\n",
    "rects4 = ax.bar(x + width/0.5, all_result['Jaccard Test'], width, label='Jaccard Test')\n",
    "\n",
    "# Ajouter des étiquettes, des titres, etc.\n",
    "ax.set_ylabel('Valeurs')\n",
    "ax.set_xlabel('Modèles')\n",
    "ax.set_title('Scores des modèles')\n",
    "ax.set_xticks(x)\n",
    "ax.set_xticklabels(all_result['Vectorizer'])\n",
    "ax.legend()\n",
    "\n",
    "plt.savefig(\"All_results.png\")\n",
    "plt.show()\n",
    "pd.DataFrame(all_result).to_csv(\"Data/All_results.csv\", index=False)\n",
    "mlflow.start_run(run_name=\"All_results\")\n",
    "mlflow.log_artifact(\"Data/All_results.csv\")\n",
    "mlflow.log_artifact(\"All_results.png\")\n",
    "mlflow.end_run()"
   ]
  },
  {
   "cell_type": "markdown",
   "metadata": {},
   "source": [
    "## Stabilité du modèle"
   ]
  },
  {
   "cell_type": "code",
   "execution_count": 66,
   "metadata": {},
   "outputs": [
    {
     "data": {
      "text/html": [
       "<div>\n",
       "<style scoped>\n",
       "    .dataframe tbody tr th:only-of-type {\n",
       "        vertical-align: middle;\n",
       "    }\n",
       "\n",
       "    .dataframe tbody tr th {\n",
       "        vertical-align: top;\n",
       "    }\n",
       "\n",
       "    .dataframe thead th {\n",
       "        text-align: right;\n",
       "    }\n",
       "</style>\n",
       "<table border=\"1\" class=\"dataframe\">\n",
       "  <thead>\n",
       "    <tr style=\"text-align: right;\">\n",
       "      <th></th>\n",
       "      <th>Body</th>\n",
       "      <th>Title</th>\n",
       "      <th>Tags</th>\n",
       "      <th>CreationDate</th>\n",
       "    </tr>\n",
       "  </thead>\n",
       "  <tbody>\n",
       "    <tr>\n",
       "      <th>0</th>\n",
       "      <td>i get stuck i develop mobile application react...</td>\n",
       "      <td>warn send onanimatedvalueupdate listener register</td>\n",
       "      <td>react-native react-navigation react-native-nav...</td>\n",
       "      <td>2023-04-14 06:46:36</td>\n",
       "    </tr>\n",
       "    <tr>\n",
       "      <th>1</th>\n",
       "      <td>for google cloud platform search amp conversat...</td>\n",
       "      <td>when attempt create data store gcps search con...</td>\n",
       "      <td>google-cloud-platform google-cloud-storage goo...</td>\n",
       "      <td>2023-11-28 13:15:55</td>\n",
       "    </tr>\n",
       "    <tr>\n",
       "      <th>2</th>\n",
       "      <td>in cloud firestore documentation seem sum aggr...</td>\n",
       "      <td>be possible run sum aggregation firebase admin...</td>\n",
       "      <td>firebase google-cloud-platform google-cloud-fi...</td>\n",
       "      <td>2023-10-31 13:49:12</td>\n",
       "    </tr>\n",
       "    <tr>\n",
       "      <th>3</th>\n",
       "      <td>i try code iam role programmatically sagemaker...</td>\n",
       "      <td>getexecutionrole sagemaker unknownserviceerror...</td>\n",
       "      <td>python-3.x amazon-iam amazon-sagemaker amazon-...</td>\n",
       "      <td>2023-01-05 19:47:38</td>\n",
       "    </tr>\n",
       "    <tr>\n",
       "      <th>4</th>\n",
       "      <td>i android app write jetpack compose i try set ...</td>\n",
       "      <td>jetpack compose take colorscheme</td>\n",
       "      <td>android material-design android-jetpack-compos...</td>\n",
       "      <td>2023-01-06 16:38:33</td>\n",
       "    </tr>\n",
       "  </tbody>\n",
       "</table>\n",
       "</div>"
      ],
      "text/plain": [
       "                                                Body  \\\n",
       "0  i get stuck i develop mobile application react...   \n",
       "1  for google cloud platform search amp conversat...   \n",
       "2  in cloud firestore documentation seem sum aggr...   \n",
       "3  i try code iam role programmatically sagemaker...   \n",
       "4  i android app write jetpack compose i try set ...   \n",
       "\n",
       "                                               Title  \\\n",
       "0  warn send onanimatedvalueupdate listener register   \n",
       "1  when attempt create data store gcps search con...   \n",
       "2  be possible run sum aggregation firebase admin...   \n",
       "3  getexecutionrole sagemaker unknownserviceerror...   \n",
       "4                   jetpack compose take colorscheme   \n",
       "\n",
       "                                                Tags         CreationDate  \n",
       "0  react-native react-navigation react-native-nav...  2023-04-14 06:46:36  \n",
       "1  google-cloud-platform google-cloud-storage goo...  2023-11-28 13:15:55  \n",
       "2  firebase google-cloud-platform google-cloud-fi...  2023-10-31 13:49:12  \n",
       "3  python-3.x amazon-iam amazon-sagemaker amazon-...  2023-01-05 19:47:38  \n",
       "4  android material-design android-jetpack-compos...  2023-01-06 16:38:33  "
      ]
     },
     "execution_count": 66,
     "metadata": {},
     "output_type": "execute_result"
    }
   ],
   "source": [
    "data_stab = pd.read_csv('Data/df_stab.csv')\n",
    "data_stab.head()"
   ]
  },
  {
   "cell_type": "code",
   "execution_count": 67,
   "metadata": {},
   "outputs": [
    {
     "data": {
      "text/html": [
       "<div>\n",
       "<style scoped>\n",
       "    .dataframe tbody tr th:only-of-type {\n",
       "        vertical-align: middle;\n",
       "    }\n",
       "\n",
       "    .dataframe tbody tr th {\n",
       "        vertical-align: top;\n",
       "    }\n",
       "\n",
       "    .dataframe thead th {\n",
       "        text-align: right;\n",
       "    }\n",
       "</style>\n",
       "<table border=\"1\" class=\"dataframe\">\n",
       "  <thead>\n",
       "    <tr style=\"text-align: right;\">\n",
       "      <th></th>\n",
       "      <th>Body</th>\n",
       "      <th>Title</th>\n",
       "      <th>Tags</th>\n",
       "      <th>date</th>\n",
       "      <th>year</th>\n",
       "      <th>month</th>\n",
       "    </tr>\n",
       "  </thead>\n",
       "  <tbody>\n",
       "    <tr>\n",
       "      <th>0</th>\n",
       "      <td>i get stuck i develop mobile application react...</td>\n",
       "      <td>warn send onanimatedvalueupdate listener register</td>\n",
       "      <td>react-native react-navigation react-native-nav...</td>\n",
       "      <td>2023-04-14 06:46:36</td>\n",
       "      <td>2023</td>\n",
       "      <td>4</td>\n",
       "    </tr>\n",
       "    <tr>\n",
       "      <th>1</th>\n",
       "      <td>for google cloud platform search amp conversat...</td>\n",
       "      <td>when attempt create data store gcps search con...</td>\n",
       "      <td>google-cloud-platform google-cloud-storage goo...</td>\n",
       "      <td>2023-11-28 13:15:55</td>\n",
       "      <td>2023</td>\n",
       "      <td>11</td>\n",
       "    </tr>\n",
       "    <tr>\n",
       "      <th>2</th>\n",
       "      <td>in cloud firestore documentation seem sum aggr...</td>\n",
       "      <td>be possible run sum aggregation firebase admin...</td>\n",
       "      <td>firebase google-cloud-platform google-cloud-fi...</td>\n",
       "      <td>2023-10-31 13:49:12</td>\n",
       "      <td>2023</td>\n",
       "      <td>10</td>\n",
       "    </tr>\n",
       "    <tr>\n",
       "      <th>3</th>\n",
       "      <td>i try code iam role programmatically sagemaker...</td>\n",
       "      <td>getexecutionrole sagemaker unknownserviceerror...</td>\n",
       "      <td>python-3.x amazon-iam amazon-sagemaker amazon-...</td>\n",
       "      <td>2023-01-05 19:47:38</td>\n",
       "      <td>2023</td>\n",
       "      <td>1</td>\n",
       "    </tr>\n",
       "    <tr>\n",
       "      <th>4</th>\n",
       "      <td>i android app write jetpack compose i try set ...</td>\n",
       "      <td>jetpack compose take colorscheme</td>\n",
       "      <td>android material-design android-jetpack-compos...</td>\n",
       "      <td>2023-01-06 16:38:33</td>\n",
       "      <td>2023</td>\n",
       "      <td>1</td>\n",
       "    </tr>\n",
       "  </tbody>\n",
       "</table>\n",
       "</div>"
      ],
      "text/plain": [
       "                                                Body  \\\n",
       "0  i get stuck i develop mobile application react...   \n",
       "1  for google cloud platform search amp conversat...   \n",
       "2  in cloud firestore documentation seem sum aggr...   \n",
       "3  i try code iam role programmatically sagemaker...   \n",
       "4  i android app write jetpack compose i try set ...   \n",
       "\n",
       "                                               Title  \\\n",
       "0  warn send onanimatedvalueupdate listener register   \n",
       "1  when attempt create data store gcps search con...   \n",
       "2  be possible run sum aggregation firebase admin...   \n",
       "3  getexecutionrole sagemaker unknownserviceerror...   \n",
       "4                   jetpack compose take colorscheme   \n",
       "\n",
       "                                                Tags                date  \\\n",
       "0  react-native react-navigation react-native-nav... 2023-04-14 06:46:36   \n",
       "1  google-cloud-platform google-cloud-storage goo... 2023-11-28 13:15:55   \n",
       "2  firebase google-cloud-platform google-cloud-fi... 2023-10-31 13:49:12   \n",
       "3  python-3.x amazon-iam amazon-sagemaker amazon-... 2023-01-05 19:47:38   \n",
       "4  android material-design android-jetpack-compos... 2023-01-06 16:38:33   \n",
       "\n",
       "   year  month  \n",
       "0  2023      4  \n",
       "1  2023     11  \n",
       "2  2023     10  \n",
       "3  2023      1  \n",
       "4  2023      1  "
      ]
     },
     "metadata": {},
     "output_type": "display_data"
    },
    {
     "name": "stdout",
     "output_type": "stream",
     "text": [
      "(5075, 6)\n"
     ]
    }
   ],
   "source": [
    "data_stab['date'] = pd.to_datetime(data_stab['CreationDate'])\n",
    "data_stab['year'] = data_stab['date'].dt.year\n",
    "data_stab['month'] = data_stab['date'].dt.month\n",
    "data_stab.drop(['CreationDate'], axis=1, inplace=True)\n",
    "display(data_stab.head())\n",
    "print(data_stab.shape)"
   ]
  },
  {
   "cell_type": "code",
   "execution_count": 68,
   "metadata": {},
   "outputs": [
    {
     "name": "stdout",
     "output_type": "stream",
     "text": [
      "(724,) (724,)\n"
     ]
    },
    {
     "name": "stderr",
     "output_type": "stream",
     "text": [
      "/opt/anaconda3/envs/realboa2/lib/python3.9/site-packages/huggingface_hub/file_download.py:1132: FutureWarning: `resume_download` is deprecated and will be removed in version 1.0.0. Downloads always resume when possible. If you want to force a new download, use `force_download=True`.\n",
      "  warnings.warn(\n"
     ]
    },
    {
     "name": "stdout",
     "output_type": "stream",
     "text": [
      "(579,) (145,) (579,) (145,)\n",
      "(579, 384) (579, 41)\n"
     ]
    },
    {
     "name": "stderr",
     "output_type": "stream",
     "text": [
      "/opt/anaconda3/envs/realboa2/lib/python3.9/site-packages/sklearn/multiclass.py:90: UserWarning: Label 0 is present in all training examples.\n",
      "  warnings.warn(\n"
     ]
    },
    {
     "name": "stdout",
     "output_type": "stream",
     "text": [
      "Score for 2023-1: {'Precision': 0.9075862068965517, 'Recall': 0.2922449544785707, 'F1 Score': 0.4382137713324349, 'Jaccard Score': 0.28409048134651665}\n",
      "(558,) (558,)\n"
     ]
    },
    {
     "name": "stderr",
     "output_type": "stream",
     "text": [
      "/opt/anaconda3/envs/realboa2/lib/python3.9/site-packages/huggingface_hub/file_download.py:1132: FutureWarning: `resume_download` is deprecated and will be removed in version 1.0.0. Downloads always resume when possible. If you want to force a new download, use `force_download=True`.\n",
      "  warnings.warn(\n"
     ]
    },
    {
     "name": "stdout",
     "output_type": "stream",
     "text": [
      "(446,) (112,) (446,) (112,)\n",
      "(446, 384) (446, 41)\n"
     ]
    },
    {
     "name": "stderr",
     "output_type": "stream",
     "text": [
      "/opt/anaconda3/envs/realboa2/lib/python3.9/site-packages/sklearn/multiclass.py:90: UserWarning: Label 0 is present in all training examples.\n",
      "  warnings.warn(\n"
     ]
    },
    {
     "name": "stdout",
     "output_type": "stream",
     "text": [
      "Score for 2023-2: {'Precision': 0.9160714285714286, 'Recall': 0.30567569324687305, 'F1 Score': 0.4536347024826078, 'Jaccard Score': 0.2956998556308182}\n",
      "(628,) (628,)\n"
     ]
    },
    {
     "name": "stderr",
     "output_type": "stream",
     "text": [
      "/opt/anaconda3/envs/realboa2/lib/python3.9/site-packages/huggingface_hub/file_download.py:1132: FutureWarning: `resume_download` is deprecated and will be removed in version 1.0.0. Downloads always resume when possible. If you want to force a new download, use `force_download=True`.\n",
      "  warnings.warn(\n"
     ]
    },
    {
     "name": "stdout",
     "output_type": "stream",
     "text": [
      "(502,) (126,) (502,) (126,)\n",
      "(502, 384) (502, 41)\n"
     ]
    },
    {
     "name": "stderr",
     "output_type": "stream",
     "text": [
      "/opt/anaconda3/envs/realboa2/lib/python3.9/site-packages/sklearn/multiclass.py:90: UserWarning: Label 0 is present in all training examples.\n",
      "  warnings.warn(\n"
     ]
    },
    {
     "name": "stdout",
     "output_type": "stream",
     "text": [
      "Score for 2023-3: {'Precision': 0.8809523809523809, 'Recall': 0.28324238342478475, 'F1 Score': 0.42533108331889696, 'Jaccard Score': 0.2731045703421095}\n",
      "(456,) (456,)\n"
     ]
    },
    {
     "name": "stderr",
     "output_type": "stream",
     "text": [
      "/opt/anaconda3/envs/realboa2/lib/python3.9/site-packages/huggingface_hub/file_download.py:1132: FutureWarning: `resume_download` is deprecated and will be removed in version 1.0.0. Downloads always resume when possible. If you want to force a new download, use `force_download=True`.\n",
      "  warnings.warn(\n"
     ]
    },
    {
     "name": "stdout",
     "output_type": "stream",
     "text": [
      "(364,) (92,) (364,) (92,)\n"
     ]
    },
    {
     "name": "stderr",
     "output_type": "stream",
     "text": [
      "/opt/anaconda3/envs/realboa2/lib/python3.9/site-packages/sklearn/preprocessing/_label.py:900: UserWarning: unknown class(es) ['9'] will be ignored\n",
      "  warnings.warn(\n"
     ]
    },
    {
     "name": "stdout",
     "output_type": "stream",
     "text": [
      "(364, 384) (364, 40)\n"
     ]
    },
    {
     "name": "stderr",
     "output_type": "stream",
     "text": [
      "/opt/anaconda3/envs/realboa2/lib/python3.9/site-packages/sklearn/multiclass.py:90: UserWarning: Label 0 is present in all training examples.\n",
      "  warnings.warn(\n"
     ]
    },
    {
     "name": "stdout",
     "output_type": "stream",
     "text": [
      "Score for 2023-4: {'Precision': 0.8869565217391304, 'Recall': 0.294591595979737, 'F1 Score': 0.43812024020702406, 'Jaccard Score': 0.2837011001106101}\n",
      "(436,) (436,)\n"
     ]
    },
    {
     "name": "stderr",
     "output_type": "stream",
     "text": [
      "/opt/anaconda3/envs/realboa2/lib/python3.9/site-packages/huggingface_hub/file_download.py:1132: FutureWarning: `resume_download` is deprecated and will be removed in version 1.0.0. Downloads always resume when possible. If you want to force a new download, use `force_download=True`.\n",
      "  warnings.warn(\n"
     ]
    },
    {
     "name": "stdout",
     "output_type": "stream",
     "text": [
      "(348,) (88,) (348,) (88,)\n"
     ]
    },
    {
     "name": "stderr",
     "output_type": "stream",
     "text": [
      "/opt/anaconda3/envs/realboa2/lib/python3.9/site-packages/sklearn/preprocessing/_label.py:900: UserWarning: unknown class(es) ['8'] will be ignored\n",
      "  warnings.warn(\n"
     ]
    },
    {
     "name": "stdout",
     "output_type": "stream",
     "text": [
      "(348, 384) (348, 40)\n"
     ]
    },
    {
     "name": "stderr",
     "output_type": "stream",
     "text": [
      "/opt/anaconda3/envs/realboa2/lib/python3.9/site-packages/sklearn/multiclass.py:90: UserWarning: Label 0 is present in all training examples.\n",
      "  warnings.warn(\n"
     ]
    },
    {
     "name": "stdout",
     "output_type": "stream",
     "text": [
      "Score for 2023-5: {'Precision': 0.9090909090909091, 'Recall': 0.29303464359974707, 'F1 Score': 0.4394074259596, 'Jaccard Score': 0.2845085218203006}\n",
      "(412,) (412,)\n"
     ]
    },
    {
     "name": "stderr",
     "output_type": "stream",
     "text": [
      "/opt/anaconda3/envs/realboa2/lib/python3.9/site-packages/huggingface_hub/file_download.py:1132: FutureWarning: `resume_download` is deprecated and will be removed in version 1.0.0. Downloads always resume when possible. If you want to force a new download, use `force_download=True`.\n",
      "  warnings.warn(\n"
     ]
    },
    {
     "name": "stdout",
     "output_type": "stream",
     "text": [
      "(329,) (83,) (329,) (83,)\n",
      "(329, 384) (329, 41)\n"
     ]
    },
    {
     "name": "stderr",
     "output_type": "stream",
     "text": [
      "/opt/anaconda3/envs/realboa2/lib/python3.9/site-packages/sklearn/multiclass.py:90: UserWarning: Label 0 is present in all training examples.\n",
      "  warnings.warn(\n"
     ]
    },
    {
     "name": "stdout",
     "output_type": "stream",
     "text": [
      "Score for 2023-6: {'Precision': 0.8843373493975902, 'Recall': 0.28623299752531983, 'F1 Score': 0.42837644315290524, 'Jaccard Score': 0.2751932417356666}\n",
      "(387,) (387,)\n"
     ]
    },
    {
     "name": "stderr",
     "output_type": "stream",
     "text": [
      "/opt/anaconda3/envs/realboa2/lib/python3.9/site-packages/huggingface_hub/file_download.py:1132: FutureWarning: `resume_download` is deprecated and will be removed in version 1.0.0. Downloads always resume when possible. If you want to force a new download, use `force_download=True`.\n",
      "  warnings.warn(\n"
     ]
    },
    {
     "name": "stdout",
     "output_type": "stream",
     "text": [
      "(309,) (78,) (309,) (78,)\n",
      "(309, 384) (309, 41)\n"
     ]
    },
    {
     "name": "stderr",
     "output_type": "stream",
     "text": [
      "/opt/anaconda3/envs/realboa2/lib/python3.9/site-packages/sklearn/multiclass.py:90: UserWarning: Label 0 is present in all training examples.\n",
      "  warnings.warn(\n"
     ]
    },
    {
     "name": "stdout",
     "output_type": "stream",
     "text": [
      "Score for 2023-7: {'Precision': 0.892307692307692, 'Recall': 0.274349955504177, 'F1 Score': 0.41610049868940097, 'Jaccard Score': 0.26470800066128153}\n",
      "(364,) (364,)\n"
     ]
    },
    {
     "name": "stderr",
     "output_type": "stream",
     "text": [
      "/opt/anaconda3/envs/realboa2/lib/python3.9/site-packages/huggingface_hub/file_download.py:1132: FutureWarning: `resume_download` is deprecated and will be removed in version 1.0.0. Downloads always resume when possible. If you want to force a new download, use `force_download=True`.\n",
      "  warnings.warn(\n"
     ]
    },
    {
     "name": "stdout",
     "output_type": "stream",
     "text": [
      "(291,) (73,) (291,) (73,)\n",
      "(291, 384) (291, 41)\n",
      "Score for 2023-8: {'Precision': 0.9369863013698629, 'Recall': 0.30487704414872474, 'F1 Score': 0.45476760027113194, 'Jaccard Score': 0.2969044275169198}\n",
      "(316,) (316,)\n"
     ]
    },
    {
     "name": "stderr",
     "output_type": "stream",
     "text": [
      "/opt/anaconda3/envs/realboa2/lib/python3.9/site-packages/sklearn/multiclass.py:90: UserWarning: Label 0 is present in all training examples.\n",
      "  warnings.warn(\n",
      "/opt/anaconda3/envs/realboa2/lib/python3.9/site-packages/huggingface_hub/file_download.py:1132: FutureWarning: `resume_download` is deprecated and will be removed in version 1.0.0. Downloads always resume when possible. If you want to force a new download, use `force_download=True`.\n",
      "  warnings.warn(\n"
     ]
    },
    {
     "name": "stdout",
     "output_type": "stream",
     "text": [
      "(252,) (64,) (252,) (64,)\n",
      "(252, 384) (252, 40)\n"
     ]
    },
    {
     "name": "stderr",
     "output_type": "stream",
     "text": [
      "/opt/anaconda3/envs/realboa2/lib/python3.9/site-packages/sklearn/multiclass.py:90: UserWarning: Label 0 is present in all training examples.\n",
      "  warnings.warn(\n"
     ]
    },
    {
     "name": "stdout",
     "output_type": "stream",
     "text": [
      "Score for 2023-9: {'Precision': 0.8937499999999999, 'Recall': 0.2950450779857444, 'F1 Score': 0.4393929516579457, 'Jaccard Score': 0.2837788319097315}\n",
      "(289,) (289,)\n"
     ]
    },
    {
     "name": "stderr",
     "output_type": "stream",
     "text": [
      "/opt/anaconda3/envs/realboa2/lib/python3.9/site-packages/huggingface_hub/file_download.py:1132: FutureWarning: `resume_download` is deprecated and will be removed in version 1.0.0. Downloads always resume when possible. If you want to force a new download, use `force_download=True`.\n",
      "  warnings.warn(\n"
     ]
    },
    {
     "name": "stdout",
     "output_type": "stream",
     "text": [
      "(231,) (58,) (231,) (58,)\n",
      "(231, 384) (231, 39)\n"
     ]
    },
    {
     "name": "stderr",
     "output_type": "stream",
     "text": [
      "/opt/anaconda3/envs/realboa2/lib/python3.9/site-packages/sklearn/multiclass.py:90: UserWarning: Label 0 is present in all training examples.\n",
      "  warnings.warn(\n"
     ]
    },
    {
     "name": "stdout",
     "output_type": "stream",
     "text": [
      "Score for 2023-10: {'Precision': 0.8758620689655172, 'Recall': 0.2851686377408036, 'F1 Score': 0.4263874189990852, 'Jaccard Score': 0.2738917750207094}\n",
      "(277,) (277,)\n"
     ]
    },
    {
     "name": "stderr",
     "output_type": "stream",
     "text": [
      "/opt/anaconda3/envs/realboa2/lib/python3.9/site-packages/huggingface_hub/file_download.py:1132: FutureWarning: `resume_download` is deprecated and will be removed in version 1.0.0. Downloads always resume when possible. If you want to force a new download, use `force_download=True`.\n",
      "  warnings.warn(\n"
     ]
    },
    {
     "name": "stdout",
     "output_type": "stream",
     "text": [
      "(221,) (56,) (221,) (56,)\n",
      "(221, 384) (221, 41)\n"
     ]
    },
    {
     "name": "stderr",
     "output_type": "stream",
     "text": [
      "/opt/anaconda3/envs/realboa2/lib/python3.9/site-packages/sklearn/multiclass.py:90: UserWarning: Label 0 is present in all training examples.\n",
      "  warnings.warn(\n"
     ]
    },
    {
     "name": "stdout",
     "output_type": "stream",
     "text": [
      "Score for 2023-11: {'Precision': 0.8857142857142856, 'Recall': 0.28855545571044555, 'F1 Score': 0.43147101421989414, 'Jaccard Score': 0.2775870845416412}\n",
      "(228,) (228,)\n"
     ]
    },
    {
     "name": "stderr",
     "output_type": "stream",
     "text": [
      "/opt/anaconda3/envs/realboa2/lib/python3.9/site-packages/huggingface_hub/file_download.py:1132: FutureWarning: `resume_download` is deprecated and will be removed in version 1.0.0. Downloads always resume when possible. If you want to force a new download, use `force_download=True`.\n",
      "  warnings.warn(\n"
     ]
    },
    {
     "name": "stdout",
     "output_type": "stream",
     "text": [
      "(182,) (46,) (182,) (46,)\n"
     ]
    },
    {
     "name": "stderr",
     "output_type": "stream",
     "text": [
      "/opt/anaconda3/envs/realboa2/lib/python3.9/site-packages/sklearn/preprocessing/_label.py:900: UserWarning: unknown class(es) ['4'] will be ignored\n",
      "  warnings.warn(\n"
     ]
    },
    {
     "name": "stdout",
     "output_type": "stream",
     "text": [
      "(182, 384) (182, 39)\n"
     ]
    },
    {
     "name": "stderr",
     "output_type": "stream",
     "text": [
      "/opt/anaconda3/envs/realboa2/lib/python3.9/site-packages/sklearn/multiclass.py:90: UserWarning: Label 0 is present in all training examples.\n",
      "  warnings.warn(\n"
     ]
    },
    {
     "name": "stdout",
     "output_type": "stream",
     "text": [
      "Score for 2023-12: {'Precision': 0.8913043478260869, 'Recall': 0.29937158681942644, 'F1 Score': 0.4437718252337957, 'Jaccard Score': 0.2894032791710518}\n"
     ]
    }
   ],
   "source": [
    "# Pour chaque mois de 2023\n",
    "scores = {}\n",
    "for month in range(1, 13):\n",
    "    data_month = data_stab[(data_stab['year'] == 2023) & (data_stab['month'] == month)]\n",
    "    \n",
    "    X = data_month.drop('Tags', axis=1)\n",
    "    y = data_month['Tags']\n",
    "    \n",
    "    X['combined'] = X['Title'] + \" \" + X['Body']\n",
    "    X = X['combined']\n",
    "    print(X.shape, y.shape)\n",
    "    pipeline_use_2 = create_use_pipeline()\n",
    "   \n",
    "\n",
    "    X_train_stab, X_test_stab, y_train_stab, y_test_stab = train_test_split(X, y, test_size=0.2, random_state=42)\n",
    "    print(X_train_stab.shape, X_test_stab.shape, y_train_stab.shape, y_test_stab.shape)\n",
    "\n",
    "    mlb_stab = MultiLabelBinarizer()\n",
    "    y_train_stab_trans= mlb_stab.fit_transform(y_train_stab)\n",
    "    y_test_stab_trans = mlb_stab.transform(y_test_stab)\n",
    "\n",
    "    model = create_use_pipeline()\n",
    "\n",
    "    X_train_str = [' '.join(text) for text in X_train_stab]\n",
    "    X_test_str = [' '.join(text) for text in X_test_stab]\n",
    "\n",
    "    #X_train_stab = pip_reg_log[\"use_vectorizer\"].fit_transform(X_train_str)\n",
    "    #X_test_stab = pip_reg_log[\"use_vectorizer\"].transform(X_test_str)\n",
    "\n",
    "   \n",
    "    X_train_stab_trans = model[\"use_vectorizer\"].fit_transform(X_train_str)\n",
    "    X_test_stab_trans = model[\"use_vectorizer\"].transform(X_test_str)\n",
    "    print(X_train_stab_trans.shape,  y_train_stab_trans.shape )\n",
    "\n",
    "    stability = model.named_steps['clf_use'].fit(X_train_stab_trans, y_train_stab_trans)\n",
    "    \n",
    "    predictions = model.named_steps['clf_use'].predict_proba(X_test_stab_trans)\n",
    "    binary_pred_use =select_top_n_tags(predictions, threshold=0.15, top_n=5)\n",
    "    scores[month] = {\n",
    "        'Precision': precision_score(y_test_stab_trans , binary_pred_use, average='samples'),\n",
    "        'Recall': recall_score(y_test_stab_trans , binary_pred_use, average='samples'),\n",
    "        'F1 Score': f1_score(y_test_stab_trans , binary_pred_use, average='samples'),\n",
    "        'Jaccard Score': jaccard_score(y_test_stab_trans , binary_pred_use, average='samples')\n",
    "    }\n",
    "    \n",
    "    print(f\"Score for 2023-{month}: {scores[month]}\")"
   ]
  },
  {
   "cell_type": "code",
   "execution_count": 69,
   "metadata": {},
   "outputs": [
    {
     "data": {
      "image/png": "[encoded data removed]",
      "text/plain": [
       "<Figure size 1000x600 with 1 Axes>"
      ]
     },
     "metadata": {},
     "output_type": "display_data"
    }
   ],
   "source": [
    "import matplotlib.pyplot as plt\n",
    "\n",
    "# Initialize lists to store metric values\n",
    "precision_values = []\n",
    "recall_values = []\n",
    "f1_score_values = []\n",
    "jaccard_score_values = []\n",
    "\n",
    "# Extract metric values from the scores dictionary\n",
    "for month in range(1, 13):\n",
    "    precision_values.append(scores[month]['Precision'])\n",
    "    recall_values.append(scores[month]['Recall'])\n",
    "    f1_score_values.append(scores[month]['F1 Score'])\n",
    "    jaccard_score_values.append(scores[month]['Jaccard Score'])\n",
    "\n",
    "# Plotting\n",
    "months = range(1, 13)\n",
    "plt.figure(figsize=(10, 6))\n",
    "\n",
    "plt.plot(months, precision_values, label='Precision', marker='o')\n",
    "plt.plot(months, recall_values, label='Recall', marker='o')\n",
    "plt.plot(months, f1_score_values, label='F1 Score', marker='o')\n",
    "plt.plot(months, jaccard_score_values, label='Jaccard Score', marker='o')\n",
    "\n",
    "plt.title('Evolution of Metrics by Month in 2023')\n",
    "plt.xlabel('Month')\n",
    "plt.ylabel('Score')\n",
    "plt.xticks(months)  # Ensure all months are shown\n",
    "plt.legend()\n",
    "plt.grid(True)\n",
    "plt.show()"
   ]
  }
 ],
 "metadata": {
  "kernelspec": {
   "display_name": "Python 3",
   "language": "python",
   "name": "python3"
  },
  "language_info": {
   "codemirror_mode": {
    "name": "ipython",
    "version": 3
   },
   "file_extension": ".py",
   "mimetype": "text/x-python",
   "name": "python",
   "nbconvert_exporter": "python",
   "pygments_lexer": "ipython3",
   "version": "3.9.19"
  }
 },
 "nbformat": 4,
 "nbformat_minor": 2
}
